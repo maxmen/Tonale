{
 "cells": [
  {
   "cell_type": "markdown",
   "metadata": {},
   "source": [
    "# Python tutorial\n",
    "\n",
    "## Installation\n",
    "\n",
    "For the Python examples, we use Anaconda Python 2.7 or 3.6. We expect that any other Python distribution should work equally well. \n",
    "\n",
    "If you opt for the Anaconda distribution, you can download the installer, which is available for Windows, Mac OSX, and Linux platforms, from [this link](https://www.anaconda.com).\n",
    "\n",
    "Following the [installation instructions](https://docs.anaconda.com/anaconda/), python should be ready for usage within few minutes. We advice to create different environments for easily switching between different versions of python. The documnentation can be found [at this URL](https://docs.conda.io/projects/conda/en/latest/user-guide/tasks/manage-environments.html)\n",
    "\n",
    "## Documentation\n",
    "\n",
    "There are many books and resources online to learn how to program in Python. The list below is just a starting point and does not want to be complete: \n",
    "\n",
    "* the official online documentation, as well as links to many other useful guides and books, can be found [at this url](http://www.python.org/doc)\n",
    "* several platforms for e-learning propose courses to learn Python. Some of these courses can be found at [Codeacademy](https://www.codecademy.com/catalog/language/python), [Datacamp](https://learn.datacamp.com), and [Coursera](https://www.coursera.org)\n",
    "* Google also offers a [python class](https://developers.google.com/edu/python/?csw=1) online;\n",
    "* [A Byte of Python](https://python.swaroopch.com/) is a free, online book for beginners.\n",
    "\n",
    "\n",
    "## Run python\n",
    "\n",
    "Python can be run in several ways:\n",
    "You can run Python programs in several ways:\n",
    "\n",
    "* for using the interactive interpreter, launch ```python``` in a shell. At the Python prompt, type your commands. Quit the interpreter with Ctrl+D or type ```exit()``` when finished.\n",
    "* create your own script with an extension ```.py``` and run it in a shell by typing python ```scriptname.py```\n",
    "* use an Interactive Development Environment (IDE). These are software which include an editor for coding and capabilities for executing the code. There are several options available (e.g. spyder, Rodeo, etc.)\n",
    "*  use a web-based interactive development environment like [jupyter notebook](http://jupyter-notebook-beginner-guide.readthedocs.io/en/latest/what_is_jupyter.html), or [jupyter lab](https://jupyter.org/) (if you use Python 3.x).\n",
    "\n",
    "\n",
    "## Your first python code\n",
    "\n",
    "Try running the code:"
   ]
  },
  {
   "cell_type": "code",
   "execution_count": 1,
   "metadata": {
    "jupyter": {
     "outputs_hidden": false
    }
   },
   "outputs": [
    {
     "name": "stdout",
     "output_type": "stream",
     "text": [
      "Hello World!\n"
     ]
    }
   ],
   "source": [
    "# your first python code -- this is a comment\n",
    "print (\"Hello World!\")"
   ]
  },
  {
   "cell_type": "markdown",
   "metadata": {},
   "source": [
    "Congratulations! You have run your first python code!"
   ]
  },
  {
   "cell_type": "markdown",
   "metadata": {},
   "source": [
    "## Variables\n",
    "\n",
    "Variables are names pointing to values or objects. Setting them in python is extremely easy, and you don't need to declare them before:"
   ]
  },
  {
   "cell_type": "code",
   "execution_count": 2,
   "metadata": {
    "collapsed": true,
    "jupyter": {
     "outputs_hidden": true
    }
   },
   "outputs": [],
   "source": [
    "int_var = 4\n",
    "float_var = 7.89778\n",
    "boolean_var = False\n",
    "string_var = \"My name is Python\"\n",
    "cmplx_var = 3+4j\n",
    "#obj_var=some_class_name(par1,par2) # this won't work yet, because the class some_class_name does not exist yet"
   ]
  },
  {
   "cell_type": "markdown",
   "metadata": {},
   "source": [
    "## Strings\n",
    "\n",
    "String constants can be defined in three ways:"
   ]
  },
  {
   "cell_type": "code",
   "execution_count": 3,
   "metadata": {
    "jupyter": {
     "outputs_hidden": false
    }
   },
   "outputs": [
    {
     "name": "stdout",
     "output_type": "stream",
     "text": [
      "my name is Python \n",
      "and this is  a multiline  string.\n"
     ]
    }
   ],
   "source": [
    "single_quotes = 'my name is Python'\n",
    "double_quotes = \"my name is Python\"\n",
    "triple_quotes = \"\"\"my name is Python \n",
    "and this is  a multiline  string.\"\"\" #This can contain line breaks!\n",
    "\n",
    "print (triple_quotes)"
   ]
  },
  {
   "cell_type": "markdown",
   "metadata": {},
   "source": [
    "Note that you can combine single and double quotes when you want to define strings which contain quotes themselves:"
   ]
  },
  {
   "cell_type": "code",
   "execution_count": 4,
   "metadata": {
    "jupyter": {
     "outputs_hidden": false
    }
   },
   "outputs": [
    {
     "name": "stdout",
     "output_type": "stream",
     "text": [
      "my name is \"Python\"\n",
      "don't\n"
     ]
    }
   ],
   "source": [
    "double_quotes1 = 'my name is \"Python\"'\n",
    "double_quotes2 = \"don't\"\n",
    "\n",
    "print (double_quotes1)\n",
    "print (double_quotes2)\n"
   ]
  },
  {
   "cell_type": "markdown",
   "metadata": {},
   "source": [
    "Otherwise you have to use backslashes:"
   ]
  },
  {
   "cell_type": "code",
   "execution_count": 5,
   "metadata": {
    "jupyter": {
     "outputs_hidden": false
    }
   },
   "outputs": [
    {
     "name": "stdout",
     "output_type": "stream",
     "text": [
      "don't\n"
     ]
    }
   ],
   "source": [
    "double_quotes3 = 'don\\'t'\n",
    "print (double_quotes3)"
   ]
  },
  {
   "cell_type": "markdown",
   "metadata": {},
   "source": [
    "Strings can me sliced: "
   ]
  },
  {
   "cell_type": "code",
   "execution_count": 6,
   "metadata": {
    "jupyter": {
     "outputs_hidden": false
    }
   },
   "outputs": [
    {
     "name": "stdout",
     "output_type": "stream",
     "text": [
      "Massimo Meneghetti\n",
      "Massimo\n",
      "Meneghetti\n",
      "imo\n"
     ]
    }
   ],
   "source": [
    "my_name='Massimo Meneghetti'\n",
    "name = my_name[:7]\n",
    "surname = my_name[8:]\n",
    "a_piece_of_my_name=my_name[4:7]\n",
    "\n",
    "print (my_name)\n",
    "print (name)\n",
    "print (surname)\n",
    "print (a_piece_of_my_name)"
   ]
  },
  {
   "cell_type": "markdown",
   "metadata": {},
   "source": [
    "You can make many operations with strings. These are objects and have many methods. Check out [this url](https://docs.python.org/2/library/stdtypes.html#string-methods) to learn more.\n",
    "\n",
    "Some examples:"
   ]
  },
  {
   "cell_type": "code",
   "execution_count": 7,
   "metadata": {
    "jupyter": {
     "outputs_hidden": false
    }
   },
   "outputs": [
    {
     "name": "stdout",
     "output_type": "stream",
     "text": [
      "Massimo Meneghetti\n"
     ]
    }
   ],
   "source": [
    "# string concatenation:\n",
    "back_to_my_full_name=name+\" \"+surname\n",
    "\n",
    "print (back_to_my_full_name)"
   ]
  },
  {
   "cell_type": "markdown",
   "metadata": {},
   "source": [
    "which can be achieved also by typing"
   ]
  },
  {
   "cell_type": "code",
   "execution_count": 8,
   "metadata": {
    "jupyter": {
     "outputs_hidden": false
    }
   },
   "outputs": [
    {
     "name": "stdout",
     "output_type": "stream",
     "text": [
      "Massimo Meneghetti\n"
     ]
    }
   ],
   "source": [
    "back_to_my_full_name = '%s %s' % (name, surname)\n",
    "print (back_to_my_full_name)"
   ]
  },
  {
   "cell_type": "code",
   "execution_count": 8,
   "metadata": {
    "jupyter": {
     "outputs_hidden": false
    }
   },
   "outputs": [
    {
     "name": "stdout",
     "output_type": "stream",
     "text": [
      "MASSIMO MENEGHETTI\n"
     ]
    }
   ],
   "source": [
    "# Convert to uppercase:\n",
    "\n",
    "my_name_uppercase=back_to_my_full_name.upper()\n",
    "\n",
    "print (my_name_uppercase)"
   ]
  },
  {
   "cell_type": "markdown",
   "metadata": {},
   "source": [
    "The built-in function ```str``` converts numbers to strings:"
   ]
  },
  {
   "cell_type": "code",
   "execution_count": 9,
   "metadata": {
    "jupyter": {
     "outputs_hidden": false
    }
   },
   "outputs": [
    {
     "name": "stdout",
     "output_type": "stream",
     "text": [
      "2\n",
      "2.0\n"
     ]
    }
   ],
   "source": [
    "my_int=2\n",
    "my_float=2.0\n",
    "str_int=str(my_int)\n",
    "str_float=str(my_float)\n",
    "\n",
    "print (str_int)\n",
    "print (str_float)"
   ]
  },
  {
   "cell_type": "markdown",
   "metadata": {},
   "source": [
    "Another way to include numbers in strings:"
   ]
  },
  {
   "cell_type": "code",
   "execution_count": 10,
   "metadata": {
    "jupyter": {
     "outputs_hidden": false
    }
   },
   "outputs": [
    {
     "name": "stdout",
     "output_type": "stream",
     "text": [
      "My integer is 2\n",
      "My float is 2.000000.\n",
      "My float is 2.000 (with only one decimal)\n"
     ]
    }
   ],
   "source": [
    "my_string1 = 'My integer is %d' % my_int \n",
    "my_string2 = 'My float is %f.' % my_float\n",
    "my_string3 = 'My float is %3.3f (with only one decimal)' % my_float\n",
    "\n",
    "print (my_string1)\n",
    "print (my_string2)\n",
    "print (my_string3)"
   ]
  },
  {
   "cell_type": "markdown",
   "metadata": {},
   "source": [
    "With several variables, we need to use parentheses:"
   ]
  },
  {
   "cell_type": "code",
   "execution_count": 11,
   "metadata": {
    "jupyter": {
     "outputs_hidden": false
    }
   },
   "outputs": [
    {
     "name": "stdout",
     "output_type": "stream",
     "text": [
      "2 + 67 = 69\n",
      "2 + 67.30 =  69.3\n"
     ]
    }
   ],
   "source": [
    "a = 2\n",
    "b = 67\n",
    "my_string4 = '%d + %d = %d' % (a, b, a+b)\n",
    "print (my_string4)\n",
    "\n",
    "a = 2\n",
    "b = 67.3\n",
    "my_string5 = '%d + %5.2f = %5.1f' % (a, b, a+b)\n",
    "print (my_string5)"
   ]
  },
  {
   "cell_type": "markdown",
   "metadata": {},
   "source": [
    "Possible type conversion are:"
   ]
  },
  {
   "cell_type": "markdown",
   "metadata": {},
   "source": [
    "|conversion   |meaning   |\n",
    "|---|---|\n",
    "| d  | signed integer decimal  |\n",
    "| i  | signed integer decimal |\n",
    "| u  | signed integer (obsolete) |\n",
    "| o  | unsigned octal |\n",
    "| x  | unsigned hexadecimal (lower case) |\n",
    "| X  | unsigned hexadecimal (upper case) |\n",
    "| e | floating point exponential (lower case) |\n",
    "| E | floating point exponential (upper case) |\n",
    "| f | floating point decimal |\n",
    "| F | floating point decimal |\n",
    "| g | Same as \"e\" if exponent is greater than -4 or less than precision, \"f\" otherwise |\n",
    "| G | Same as \"E\" if exponent is greater than -4 or less than precision, \"F\" otherwise |\n",
    "| c | Single character (accepts integer or single character string) |\n",
    "| r | String (converts any python object using repr()) |\n",
    "| s | String (converts any python object using str()) |\n",
    "| % | No argument is converted, results in a \"%\" character in the result |"
   ]
  },
  {
   "cell_type": "markdown",
   "metadata": {},
   "source": [
    "Examples:"
   ]
  },
  {
   "cell_type": "code",
   "execution_count": 12,
   "metadata": {},
   "outputs": [
    {
     "name": "stdout",
     "output_type": "stream",
     "text": [
      "  1.24e+02\n",
      "  1.24E+02\n",
      "      55\n",
      "     055\n",
      "   00055\n",
      "   15\n",
      " 0015\n",
      " 0015\n",
      "Only one percentage sign: % \n"
     ]
    }
   ],
   "source": [
    "print(\"%10.2e\"% (123.56239))\n",
    "print(\"%10.2E\"% (123.56239))\n",
    "print(\"%8o\"% (45))\n",
    "print(\"%8.3o\"% (45))\n",
    "print(\"%8.5o\"% (45))\n",
    "print(\"%5x\"% (21))\n",
    "print(\"%5.4x\"% (21))\n",
    "print(\"%5.4X\"% (21))\n",
    "print(\"Only one percentage sign: %% \" % ())"
   ]
  },
  {
   "cell_type": "markdown",
   "metadata": {},
   "source": [
    "Not only you can convert numbers to string, but you can do the reverse operation:"
   ]
  },
  {
   "cell_type": "code",
   "execution_count": 13,
   "metadata": {
    "jupyter": {
     "outputs_hidden": false
    }
   },
   "outputs": [
    {
     "name": "stdout",
     "output_type": "stream",
     "text": [
      "23 23\n",
      "<class 'str'> <class 'int'>\n"
     ]
    }
   ],
   "source": [
    "s = '23'\n",
    "i = int(s)\n",
    "\n",
    "print (s, i)\n",
    "print (type(s), type(i))"
   ]
  },
  {
   "cell_type": "code",
   "execution_count": 14,
   "metadata": {
    "jupyter": {
     "outputs_hidden": false
    }
   },
   "outputs": [
    {
     "name": "stdout",
     "output_type": "stream",
     "text": [
      "23 23.0\n",
      "<class 'str'> <class 'float'>\n"
     ]
    }
   ],
   "source": [
    "s = '23'\n",
    "i = float(s)\n",
    "\n",
    "print (s, i)\n",
    "print (type(s), type(i))"
   ]
  },
  {
   "cell_type": "markdown",
   "metadata": {},
   "source": [
    "## Lists\n",
    "\n",
    "A list is a dynamic array of any objects.\n",
    "It is declared with square brackets:"
   ]
  },
  {
   "cell_type": "code",
   "execution_count": 15,
   "metadata": {
    "collapsed": true,
    "jupyter": {
     "outputs_hidden": true
    }
   },
   "outputs": [],
   "source": [
    "a_list = [1, 2, 3, 'abc', 'def']"
   ]
  },
  {
   "cell_type": "markdown",
   "metadata": {},
   "source": [
    "Lists may contain lists:"
   ]
  },
  {
   "cell_type": "code",
   "execution_count": 16,
   "metadata": {
    "collapsed": true,
    "jupyter": {
     "outputs_hidden": true
    }
   },
   "outputs": [],
   "source": [
    "another_list = [a_list, 'abc', a_list, [1, 2, 3]]"
   ]
  },
  {
   "cell_type": "markdown",
   "metadata": {},
   "source": [
    "Note that ```a_list``` in this case is a pointer.\n",
    "Access a specific element by index (index starts at zero):"
   ]
  },
  {
   "cell_type": "code",
   "execution_count": 17,
   "metadata": {
    "collapsed": true,
    "jupyter": {
     "outputs_hidden": true
    }
   },
   "outputs": [
    {
     "name": "stdout",
     "output_type": "stream",
     "text": [
      "3 2\n",
      "1\n"
     ]
    }
   ],
   "source": [
    "elem = a_list[2]\n",
    "elem2 = another_list[3][1]\n",
    "elem3= another_list[0][0]\n",
    "\n",
    "print (elem,elem2)\n",
    "print (elem3)"
   ]
  },
  {
   "cell_type": "markdown",
   "metadata": {},
   "source": [
    "It's easy to test if an item is in the list:"
   ]
  },
  {
   "cell_type": "code",
   "execution_count": 18,
   "metadata": {
    "jupyter": {
     "outputs_hidden": false
    }
   },
   "outputs": [
    {
     "name": "stdout",
     "output_type": "stream",
     "text": [
      "bingo!\n"
     ]
    }
   ],
   "source": [
    "if 'abc' in a_list:\n",
    "    print ('bingo!')"
   ]
  },
  {
   "cell_type": "markdown",
   "metadata": {},
   "source": [
    "Extracting a part of a list is called slicing:"
   ]
  },
  {
   "cell_type": "code",
   "execution_count": 19,
   "metadata": {
    "jupyter": {
     "outputs_hidden": false
    }
   },
   "outputs": [
    {
     "name": "stdout",
     "output_type": "stream",
     "text": [
      "[3, 'abc']\n"
     ]
    }
   ],
   "source": [
    "list2 = a_list[2:4] # returns a list with items 2 and 3 (not 4)\n",
    "print (list2)"
   ]
  },
  {
   "cell_type": "markdown",
   "metadata": {},
   "source": [
    "Other list operations like appending:"
   ]
  },
  {
   "cell_type": "code",
   "execution_count": 20,
   "metadata": {
    "jupyter": {
     "outputs_hidden": false
    }
   },
   "outputs": [
    {
     "name": "stdout",
     "output_type": "stream",
     "text": [
      "[1, 2, 3, 'abc', 'def', 'ghi']\n"
     ]
    }
   ],
   "source": [
    "a_list.append('ghi')\n",
    "print (a_list)\n",
    "a_list.remove('abc')"
   ]
  },
  {
   "cell_type": "code",
   "execution_count": 21,
   "metadata": {
    "jupyter": {
     "outputs_hidden": false
    }
   },
   "outputs": [
    {
     "name": "stdout",
     "output_type": "stream",
     "text": [
      "[1, 2, 3, 'def', 'ghi']\n"
     ]
    }
   ],
   "source": [
    "print(a_list)"
   ]
  },
  {
   "cell_type": "markdown",
   "metadata": {},
   "source": [
    "Additional methods for lists can be found [here](https://docs.python.org/2/tutorial/datastructures.html#more-on-lists)."
   ]
  },
  {
   "cell_type": "markdown",
   "metadata": {},
   "source": [
    "## Tuples\n",
    "\n",
    "A tuple is similar to a list but it is a fixed-size, immutable array. This means that once a tuple has been created, its elements may not be changed, removed, appended or inserted.\n",
    "\n",
    "It is declared using parentheses and comma-separated values:"
   ]
  },
  {
   "cell_type": "code",
   "execution_count": 22,
   "metadata": {
    "collapsed": true,
    "jupyter": {
     "outputs_hidden": true
    }
   },
   "outputs": [],
   "source": [
    "a_tuple = (1, 2, 3, 'abc', 'def')"
   ]
  },
  {
   "cell_type": "markdown",
   "metadata": {},
   "source": [
    "but parentheses are optional:"
   ]
  },
  {
   "cell_type": "code",
   "execution_count": 23,
   "metadata": {
    "collapsed": true,
    "jupyter": {
     "outputs_hidden": true
    }
   },
   "outputs": [],
   "source": [
    "another_tuple = 1, 2, 3, 'abc', 'def'"
   ]
  },
  {
   "cell_type": "markdown",
   "metadata": {},
   "source": [
    "Tip: a tuple containing only one item must be declared using a comma, otherwise it is not considered as a tuple:"
   ]
  },
  {
   "cell_type": "code",
   "execution_count": 24,
   "metadata": {
    "collapsed": true,
    "jupyter": {
     "outputs_hidden": true
    }
   },
   "outputs": [],
   "source": [
    "a_single_item_tuple = ('one value',) "
   ]
  },
  {
   "cell_type": "markdown",
   "metadata": {},
   "source": [
    "Tuples are not constant lists -- this is a common misconception. Lists are intended to be homogeneous sequences, while tuples are hetereogeneous data structures.\n",
    "\n",
    "In some sense, tuples may be regarded as simplified structures, in which position has semantic value [e.g. (name,surname,age,height,weight)] and not an order. For this reason they are immutable, contrary to lists."
   ]
  },
  {
   "cell_type": "markdown",
   "metadata": {},
   "source": [
    "## Dictionaries\n",
    "A Dictionary (or \"dict\") is a way to store data just like a tuples, but instead of using only numbers to get the data, you can use almost anything. This lets you treat a dict like it's a database for storing and organizing data.\n",
    "\n",
    "Dictionaries are initialized using curl brackets:"
   ]
  },
  {
   "cell_type": "code",
   "execution_count": 25,
   "metadata": {
    "collapsed": true,
    "jupyter": {
     "outputs_hidden": true
    }
   },
   "outputs": [],
   "source": [
    "person = {'name': 'Massimo', 'surname': 'Meneghetti', 'age': 39, 'height': 1.74}"
   ]
  },
  {
   "cell_type": "markdown",
   "metadata": {},
   "source": [
    "You can access the elements of the dictionary by using the entry keys:"
   ]
  },
  {
   "cell_type": "code",
   "execution_count": 26,
   "metadata": {
    "jupyter": {
     "outputs_hidden": false
    }
   },
   "outputs": [
    {
     "data": {
      "text/plain": [
       "'Massimo'"
      ]
     },
     "execution_count": 26,
     "metadata": {},
     "output_type": "execute_result"
    }
   ],
   "source": [
    "person['name']"
   ]
  },
  {
   "cell_type": "markdown",
   "metadata": {},
   "source": [
    "The keys can also be numbers:"
   ]
  },
  {
   "cell_type": "code",
   "execution_count": 27,
   "metadata": {
    "collapsed": true,
    "jupyter": {
     "outputs_hidden": true
    }
   },
   "outputs": [
    {
     "data": {
      "text/plain": [
       "'new data'"
      ]
     },
     "execution_count": 27,
     "metadata": {},
     "output_type": "execute_result"
    }
   ],
   "source": [
    "person = {'name': 'Massimo', 'surname': 'Meneghetti', 'age': 39, 'height': 1.74, 1: 'new data'}\n",
    "person[1]"
   ]
  },
  {
   "cell_type": "markdown",
   "metadata": {},
   "source": [
    "# Blocks and indentation\n",
    "\n",
    "Blocks of code are delimited using indentation, either spaces or tabs at the beginning of lines. This will become clearer in the next sections, when loops will be introduced.\n",
    "\n",
    "Tip: NEVER mix tabs and spaces in a script, as this could generate bugs that are very difficult to be found."
   ]
  },
  {
   "cell_type": "markdown",
   "metadata": {},
   "source": [
    "## IF/ELIF/ELSE\n",
    "\n",
    "Here is an example of how to implement an IF/ELIF/ELSE loop:"
   ]
  },
  {
   "cell_type": "code",
   "execution_count": 28,
   "metadata": {
    "jupyter": {
     "outputs_hidden": false
    }
   },
   "outputs": [
    {
     "name": "stdout",
     "output_type": "stream",
     "text": [
      "The value of a is:\n",
      "a=3\n",
      "a!=\"test\"\n",
      "condition 1\n"
     ]
    }
   ],
   "source": [
    "a=3\n",
    "b=4\n",
    "\n",
    "if a == 3:\n",
    "    print ('The value of a is:')\n",
    "    print ('a=3')\n",
    "    \n",
    "if a == 'test':\n",
    "    print ('The value of a is:')\n",
    "    print ('a=\"test\"')\n",
    "    test_mode = True\n",
    "else:\n",
    "    print ('a!=\"test\"')\n",
    "    test_mode = False\n",
    "    \n",
    "if a == 1 or a == 2:\n",
    "    pass # do nothing\n",
    "elif a == 3 and b > 1:\n",
    "    print (\"condition 1\")\n",
    "elif a==3 and not b>1:\n",
    "    print ('condition 2')\n",
    "else:\n",
    "    pass"
   ]
  },
  {
   "cell_type": "markdown",
   "metadata": {},
   "source": [
    "## WHILE loops"
   ]
  },
  {
   "cell_type": "code",
   "execution_count": 29,
   "metadata": {
    "jupyter": {
     "outputs_hidden": false
    }
   },
   "outputs": [
    {
     "name": "stdout",
     "output_type": "stream",
     "text": [
      "1\n",
      "2\n",
      "3\n",
      "4\n",
      "5\n",
      "6\n",
      "7\n",
      "8\n",
      "9\n"
     ]
    }
   ],
   "source": [
    "a=1\n",
    "while a<10:\n",
    "    print (a)\n",
    "    a += 1"
   ]
  },
  {
   "cell_type": "markdown",
   "metadata": {},
   "source": [
    "## FOR Loops"
   ]
  },
  {
   "cell_type": "code",
   "execution_count": 30,
   "metadata": {
    "jupyter": {
     "outputs_hidden": false
    }
   },
   "outputs": [
    {
     "name": "stdout",
     "output_type": "stream",
     "text": [
      "0\n",
      "1\n",
      "2\n",
      "3\n",
      "4\n",
      "5\n",
      "6\n",
      "7\n",
      "8\n",
      "9\n",
      "2\n",
      "4\n",
      "8\n",
      "16\n",
      "32\n"
     ]
    }
   ],
   "source": [
    "for a in range(10):\n",
    "    print (a)\n",
    "\n",
    "my_list = [2, 4, 8, 16, 32]\n",
    "for a in my_list:\n",
    "    print (a)"
   ]
  },
  {
   "cell_type": "markdown",
   "metadata": {},
   "source": [
    "## Functions\n",
    "Functions can be defined in python as follows:"
   ]
  },
  {
   "cell_type": "code",
   "execution_count": 31,
   "metadata": {
    "collapsed": true,
    "jupyter": {
     "outputs_hidden": true
    }
   },
   "outputs": [],
   "source": [
    "def compute_sum(arg1,arg2):\n",
    "    # implement function to calculate the sum of two numbers\n",
    "    res=arg1+arg2\n",
    "    return(res)  "
   ]
  },
  {
   "cell_type": "markdown",
   "metadata": {},
   "source": [
    "The function can be called by typing the function name. If the function returns a value or object, this is assigned to a variable as follows:"
   ]
  },
  {
   "cell_type": "code",
   "execution_count": 32,
   "metadata": {
    "jupyter": {
     "outputs_hidden": false
    }
   },
   "outputs": [
    {
     "data": {
      "text/plain": [
       "10.0"
      ]
     },
     "execution_count": 32,
     "metadata": {},
     "output_type": "execute_result"
    }
   ],
   "source": [
    "summa=compute_sum(3.0,7.0)\n",
    "summa"
   ]
  },
  {
   "cell_type": "markdown",
   "metadata": {},
   "source": [
    "Otherwise, the function can just be called without setting it equal to any variable."
   ]
  },
  {
   "cell_type": "code",
   "execution_count": 33,
   "metadata": {
    "jupyter": {
     "outputs_hidden": false
    }
   },
   "outputs": [
    {
     "name": "stdout",
     "output_type": "stream",
     "text": [
      "3\n",
      "10\n"
     ]
    }
   ],
   "source": [
    "c=3\n",
    "print (c)\n",
    "\n",
    "def change_global_c(val):\n",
    "    global c\n",
    "    c=val\n",
    "\n",
    "change_global_c(10)\n",
    "\n",
    "print (c)\n",
    "    "
   ]
  },
  {
   "cell_type": "markdown",
   "metadata": {},
   "source": [
    "## Classes\n",
    "\n",
    "Classes are a way to group a set of functions inside a container. These can be accessed using the . operator. The main purpose of classes is to define objects of a certain type and the corresponding methods. For example, we may want to define a class called 'square', containing the methods to compute the square properties, such as the perimeter and the area. The object is initialized by means of a \"constructor'':"
   ]
  },
  {
   "cell_type": "code",
   "execution_count": 35,
   "metadata": {
    "collapsed": true,
    "jupyter": {
     "outputs_hidden": true
    }
   },
   "outputs": [],
   "source": [
    "class square:\n",
    "    \n",
    "    #the constructor:\n",
    "    def __init__(self,side):\n",
    "        self.side=side\n",
    "        \n",
    "    #area of the square:\n",
    "    def area(self):\n",
    "        return(self.side*self.side)\n",
    "        \n",
    "    #perimeter of the square:\n",
    "    def perimeter(self):\n",
    "        return(4.0*self.side)"
   ]
  },
  {
   "cell_type": "markdown",
   "metadata": {},
   "source": [
    "We can then use the class to define a square object:"
   ]
  },
  {
   "cell_type": "code",
   "execution_count": 36,
   "metadata": {
    "jupyter": {
     "outputs_hidden": false
    }
   },
   "outputs": [
    {
     "name": "stdout",
     "output_type": "stream",
     "text": [
      "9.0\n",
      "12.0\n"
     ]
    }
   ],
   "source": [
    "s=square(3.0) # a square with side length 3\n",
    "print (s.area())\n",
    "print (s.perimeter())"
   ]
  },
  {
   "cell_type": "markdown",
   "metadata": {},
   "source": [
    "As in other languages (e.g. C++), python supports inheritance. A class can be used as an argument for another class. In this case the new class will inherit the methods of the parent class. For example:"
   ]
  },
  {
   "cell_type": "code",
   "execution_count": 37,
   "metadata": {
    "jupyter": {
     "outputs_hidden": false
    }
   },
   "outputs": [
    {
     "name": "stdout",
     "output_type": "stream",
     "text": [
      "this is a square\n",
      "this is a circle\n"
     ]
    }
   ],
   "source": [
    "class geometrical_figure(object):\n",
    "    \n",
    "    def __init__(self,name):\n",
    "        self.name=name\n",
    "        \n",
    "    def getName(self):\n",
    "        print ('this is a %s' % self.name)\n",
    "    \n",
    "class square(geometrical_figure):\n",
    "    \n",
    "    #the constructor:\n",
    "    def __init__(self,side):\n",
    "        geometrical_figure.__init__(self,'square')\n",
    "        self.side=side\n",
    "        \n",
    "    #area of the square:\n",
    "    def area(self):\n",
    "        return(self.side*self.side)\n",
    "        \n",
    "    #perimeter of the square:\n",
    "    def perimeter(self):\n",
    "        return(4.0*self.side)\n",
    "    \n",
    "class circle(geometrical_figure):\n",
    "    \n",
    "    #the constructor:\n",
    "    def __init__(self,radius):\n",
    "        geometrical_figure.__init__(self,'circle')\n",
    "        self.radius=radius\n",
    "        \n",
    "    #area of the square:\n",
    "    def area(self):\n",
    "        return(3.141592653*self.radius**2)\n",
    "        \n",
    "    #perimeter of the square:\n",
    "    def perimeter(self):\n",
    "        return(2.0*self.radius*3.141592653)\n",
    "    \n",
    "    \n",
    "s=square(3.0)\n",
    "c=circle(3.0)\n",
    "s.getName()\n",
    "c.getName()"
   ]
  },
  {
   "cell_type": "markdown",
   "metadata": {},
   "source": [
    "In the example above, ```square``` and ```circle``` are two examples of ```geometricalFigure```. They have some specialized methods to compute the area and the perimeter, but both can access the method ```getName```, which belongs to ```geometricalFigure```, because they have inherited it from the parent class."
   ]
  },
  {
   "cell_type": "markdown",
   "metadata": {},
   "source": [
    "## Modules\n",
    "\n",
    "A module is a file containing Python definitions and statements (constants, functions, classes, etc). The file name is the module name with the suffix .py appended.\n",
    "\n",
    "Modules can be imported in another script by using the ```import``` statement:"
   ]
  },
  {
   "cell_type": "code",
   "execution_count": null,
   "metadata": {
    "collapsed": true,
    "jupyter": {
     "outputs_hidden": true
    }
   },
   "outputs": [],
   "source": [
    "import modulename # this won't work because the module modulename.py does not exist"
   ]
  },
  {
   "cell_type": "markdown",
   "metadata": {},
   "source": [
    "The functions and statements contained in the module can be accessed using the . operator.\n",
    "\n",
    "Modules can import other modules. It is customary but not required to place all import statements at the beginning of a module (or script, for that matter). \n",
    "\n",
    "There is a variant of the import statement that imports names from a module directly into the importing module’s symbol table. For example:"
   ]
  },
  {
   "cell_type": "code",
   "execution_count": null,
   "metadata": {
    "collapsed": true,
    "jupyter": {
     "outputs_hidden": true
    }
   },
   "outputs": [],
   "source": [
    "from modulename import something # this won't work because the module modulename.py does not exist"
   ]
  },
  {
   "cell_type": "markdown",
   "metadata": {},
   "source": [
    "## Importing packages\n",
    "Packages can be added to your python distribution by using either the  ``` pip``` or ```easy\\_install``` utilities. Anaconda has its own utility for installing a (limited) set of supported packages, called ```conda```. To learn more, check out [this documentation](https://packaging.python.org/installing/).\n",
    "\n",
    "Packages can be used by importing modules and classes in the code as discussed above.\n",
    "\n",
    "Some packages that we will use a lot:\n",
    "\n",
    "* numpy\n",
    "* scipy\n",
    "* matplotlib\n",
    "* astropy\n",
    "\n",
    "Other packages will be introduced in the examples.\n"
   ]
  },
  {
   "cell_type": "markdown",
   "metadata": {},
   "source": [
    "## Numpy and scipy\n",
    "\n",
    "```numpy``` and ```scipy``` are widely used packages containing high level functions for scientific computing. In particular:\n",
    "\n",
    "* ```numpy``` defines the numerical array and matrix types and basic operations on them. The ```numpy``` documentation can be found [here](http://www.numpy.org). A nice tutorial is instead available at [this url](https://www.python-course.eu/numpy.php). The numerical array object of ```numpy``` is a grid of values, all of the same type, and is indexed by a tuple of nonnegative integers. The number of dimensions is the rank of the array; the shape of an array is a tuple of integers giving the size of the array along each dimension. Compared to python lists, numpy array are more efficient in terms of memory and speed. Most importantly they have built-in functionalities, specifically for linear algebra operations, Fourier transform, random number capabilities. ```numpy``` also includes tools for integrating C/C++ and Fortran codes. The following example shows how more efficiently a ```numpy``` array performes compared to a python list:"
   ]
  },
  {
   "cell_type": "code",
   "execution_count": 39,
   "metadata": {},
   "outputs": [
    {
     "name": "stdout",
     "output_type": "stream",
     "text": [
      "0.026996135711669922 0.0008528232574462891\n",
      "Numpy is in this example 31.655018171652223 faster!\n"
     ]
    }
   ],
   "source": [
    "import time\n",
    "import numpy as np\n",
    "\n",
    "size_of_vec = 100000\n",
    "\n",
    "def pure_python_version():\n",
    "    t1 = time.time()\n",
    "    X = range(size_of_vec)\n",
    "    Y = range(size_of_vec)\n",
    "    Z = [X[i] + Y[i] for i in range(len(X)) ]\n",
    "    #for i in range(len(X)):\n",
    "    #    Z.append(X[i]+Y[i])\n",
    "    return time.time() - t1\n",
    "\n",
    "def numpy_version():\n",
    "    t1 = time.time()\n",
    "    X = np.arange(size_of_vec)\n",
    "    Y = np.arange(size_of_vec)\n",
    "    Z = X + Y\n",
    "    return time.time() - t1\n",
    "\n",
    "\n",
    "t1 = pure_python_version()\n",
    "t2 = numpy_version()\n",
    "print(t1, t2)\n",
    "print(\"Numpy is in this example \" + str(t1/t2) + \" faster!\")"
   ]
  },
  {
   "cell_type": "markdown",
   "metadata": {},
   "source": [
    "A list of the methods implemented in numpy for linear algebra operations can be found at [this url](https://docs.scipy.org/doc/numpy-1.15.1/reference/routines.linalg.html)."
   ]
  },
  {
   "cell_type": "code",
   "execution_count": 40,
   "metadata": {},
   "outputs": [
    {
     "name": "stdout",
     "output_type": "stream",
     "text": [
      "Dot product:\n",
      "[[4 1]\n",
      " [2 2]]\n",
      "which is different from:\n",
      "[[4 0]\n",
      " [0 2]]\n",
      "but equal to:\n",
      "[[4 1]\n",
      " [2 2]]\n"
     ]
    }
   ],
   "source": [
    "# dot product between matrices\n",
    "a = [[1, 0], [0, 1]]\n",
    "b = [[4, 1], [2, 2]]\n",
    "print ('Dot product:')\n",
    "print (np.dot(a, b))\n",
    "print ('which is different from:')\n",
    "print (np.array(a)*np.array(b))\n",
    "print ('but equal to:')\n",
    "print (np.matmul(a,b))"
   ]
  },
  {
   "cell_type": "markdown",
   "metadata": {},
   "source": [
    "* The ```scipy``` package contains various toolboxes dedicated to common issues in scientific computing. Its different submodules correspond to different applications, such as interpolation, integration, optimization, image processing, statistics, special functions, etc. Some documentation/tutorial can be found [here](https://scipy-lectures.org/intro/scipy.html)."
   ]
  },
  {
   "cell_type": "code",
   "execution_count": 41,
   "metadata": {},
   "outputs": [],
   "source": [
    "measured_time = np.linspace(0, 1, 10)\n",
    "noise = (np.random.random(10)*2 - 1) * 1e-1\n",
    "measures = np.sin(2 * np.pi * measured_time) + noise\n",
    "\n",
    "from scipy.interpolate import interp1d\n",
    "linear_interp = interp1d(measured_time, measures)\n",
    "\n",
    "interpolation_time = np.linspace(0, 1, 50)\n",
    "linear_results = linear_interp(interpolation_time)\n",
    "\n",
    "cubic_interp = interp1d(measured_time, measures, kind='cubic')\n",
    "cubic_results = cubic_interp(interpolation_time)"
   ]
  },
  {
   "cell_type": "markdown",
   "metadata": {},
   "source": [
    "## Matplotlib\n",
    "\n",
    "```matplotlib``` is a Python 2D plotting library. In the course of these lectures, we will widely use it for visualizing results and examples. It can be used for producing scatter-plots, plotting curves, images, and surfaces. A gallery of examples as well as the library documentation can be found [here](https://matplotlib.org).\n",
    "\n",
    "Here is a simple example to visualize the results of the previous calculation:"
   ]
  },
  {
   "cell_type": "code",
   "execution_count": 42,
   "metadata": {},
   "outputs": [
    {
     "data": {
      "text/plain": [
       "Text(0, 0.5, 'signal')"
      ]
     },
     "execution_count": 42,
     "metadata": {},
     "output_type": "execute_result"
    },
    {
     "data": {
      "image/png": "[encoded data removed]",
      "text/plain": [
       "<Figure size 1000x1000 with 1 Axes>"
      ]
     },
     "metadata": {},
     "output_type": "display_data"
    }
   ],
   "source": [
    "# Provides a MATLAB-like plotting framework.\n",
    "import matplotlib.pyplot as plt\n",
    "# only needed in jupyter notebooks\n",
    "%matplotlib inline\n",
    "fig,ax=plt.subplots(1,1,figsize=(10,10))\n",
    "ax.plot(measured_time,measures,'o')\n",
    "ax.plot(interpolation_time,linear_results,'-')\n",
    "ax.plot(interpolation_time,cubic_results,'--')\n",
    "ax.set_xlabel('time')\n",
    "ax.set_ylabel('signal')"
   ]
  },
  {
   "cell_type": "markdown",
   "metadata": {},
   "source": [
    "## Astropy\n",
    "The [Astropy Project](http://www.astropy.org) is a community effort to develop a common core package for Astronomy in Python. The ```astropy``` package contains modules for doing the most common operations in astronomical data-analysis, including:\n",
    "\n",
    "* input/output operations\n",
    "* photometry\n",
    "* time, coordinate transformations\n",
    "* convolutions, filtering\n",
    "* statistics\n",
    "* much more...\n",
    "Several other packages used by astronomers depend on astropy. See a list [here](http://www.astropy.org/affiliated/index.html)"
   ]
  }
 ],
 "metadata": {
  "kernelspec": {
   "display_name": "Python 3.8.15 ('tonale')",
   "language": "python",
   "name": "python3"
  },
  "language_info": {
   "codemirror_mode": {
    "name": "ipython",
    "version": 3
   },
   "file_extension": ".py",
   "mimetype": "text/x-python",
   "name": "python",
   "nbconvert_exporter": "python",
   "pygments_lexer": "ipython3",
   "version": "3.8.15"
  },
  "vscode": {
   "interpreter": {
    "hash": "80049abdef48e04a217b57438db502bd877ddf91a719032c10ed240a9419ff14"
   }
  }
 },
 "nbformat": 4,
 "nbformat_minor": 4
}

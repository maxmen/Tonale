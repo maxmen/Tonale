{
 "cells": [
  {
   "cell_type": "markdown",
   "metadata": {},
   "source": [
    "## Tonale Winter School on Cosmology 2022 \n",
    "# Tutorial on Gravitational Lensing\n",
    "\n",
    "## Exercise 1: Lensing Maps\n",
    "\n",
    "The goal of this exercise is to visualize the maps of several lensing quantities for a large gravitational lens, i.e. a massive galaxy cluster.\n",
    "\n",
    ">**Warning**: it is important that you execute the cells following the order given in the Notebook. If you execute a cell changing the value of a variable and then go back to some previous cell in the Notebook, the variable value will not change!\n",
    "\n",
    "### Lensing potential\n",
    "\n",
    "In Lecture 1, we explained that, in the thin screen approximation, the lens is projected onto the lens plane. We defined the *lensing potential* as\n",
    "\n",
    "$\n",
    "\\hat\\Psi(\\vec\\theta) = \\frac{D_{LS}}{D_LD_S}\\frac{2}{c^2}\\int\\Phi(D_L\\vec\\theta,z)dz\n",
    "$\n",
    "\n",
    "and derived several relations between the lensing potential and other quantities such as the deflection angle, the convergence, and the shear. Now, we will implement those relations and visualize how those quantities look like.\n",
    "\n",
    "In the `./data/` folder, you will find a file named `pot_D1_066_0.fits`. For those of you who are not familiar with the `.fits` format, please check out [this page](https://fits.gsfc.nasa.gov/fits_documentation.html). The file contains the map of the lensing potential of a simulated galaxy cluster (obtained from a cosmological hydrodynamical simulation) in a flat $\\Lambda CDM$ cosmology with $\\Omega_m=0.24$,  $\\Omega_\\Lambda=0.76$, and $H_0=72$ km $s^{-1}$ $\\mathrm{Mpc}^{-1}$. \n",
    "\n",
    "Let's see how we can view the file content with the `astropy.io.fits` module:"
   ]
  },
  {
   "cell_type": "code",
   "execution_count": null,
   "metadata": {},
   "outputs": [],
   "source": [
    "import astropy.io.fits as pyfits # we import the module to manage .fits files from astropy.io. We call it pyfits.\n",
    "\n",
    "hdul = pyfits.open('./data/pot_D1_066_0.fits') # open and read the file\n",
    "# hdul is a list of Header/Data Units (HDU). Each HDU consists of an ASCII formatted header unit and of a data unit (an image, a data cube, a table...)\n",
    "# both units can be accessed as attributes of the elements of hdul. In the case of this file, there is only one HDU, which can be accessed with hdul[0]\n",
    "pot = hdul[0].data # the data unit\n",
    "header = hdul[0].header # the header unit"
   ]
  },
  {
   "cell_type": "markdown",
   "metadata": {},
   "source": [
    "Let's print the header on screen:"
   ]
  },
  {
   "cell_type": "code",
   "execution_count": null,
   "metadata": {},
   "outputs": [],
   "source": [
    "header"
   ]
  },
  {
   "cell_type": "markdown",
   "metadata": {},
   "source": [
    "Some relevant quantities are reported in the header. First of all, the data unit contains an image (the map of the lensing potential) of 2048x2048 pixels (`NAXIS1`x `NAXIS2`). The pixel scale (`CD2_2`=-`CD1_1`) is 2.7126e-5 deg (`CUNIT1`=`CUNIT2`) = 0.098 arcsec. The keywords `ZL` and `ZS` indicate the lens (0.3492) and source redshifts (3.0), respectively. The latest is the redshift used to compute $D_S$ and $D_{LS}$ in the given cosmological model when the lensing potential was mapped. The central pixel (1024,1024) corresponds to (RA,DEC)=(0,0).\n",
    "\n",
    "The map of the potential (with overlaid contour levels) is shown below. Note that, we use the pixel scale to compute the field of view:"
   ]
  },
  {
   "cell_type": "code",
   "execution_count": null,
   "metadata": {},
   "outputs": [],
   "source": [
    "import matplotlib.pyplot as plt\n",
    "import matplotlib\n",
    "%matplotlib inline\n",
    "\n",
    "pixelscale = header['CD2_2']*3600.0 # pixel scale in arcsec\n",
    "fov = header['NAXIS1']*pixelscale # FOV in arcsec\n",
    "\n",
    "fig, ax = plt.subplots(1,1,figsize=(10,10))\n",
    "ax.imshow(pot,origin='lower',extent=[-fov/2.,fov/2.,-fov/2.,fov/2.],cmap='cubehelix')\n",
    "ax.contour(pot,colors='white',extent=[-fov/2.,fov/2.,-fov/2.,fov/2.])\n",
    "\n",
    "ax.set_xlabel(r'$\\theta_1$ [arcsec]',fontsize=20)\n",
    "ax.set_ylabel(r'$\\theta_2$ [arcsec]',fontsize=20)\n"
   ]
  },
  {
   "cell_type": "markdown",
   "metadata": {},
   "source": [
    "### Deflection angles\n",
    "\n",
    "Now, we move on to the relation between the lensing potential and the deflection angles:\n",
    "\n",
    "$$\n",
    "\\vec\\nabla\\hat\\Psi(\\vec\\theta) = \\vec\\alpha(\\vec\\theta)\n",
    "$$\n",
    "\n",
    "which tells us that we can map the components of the deflection angles by computing the gradient of the lensing potential. For doing that, we use the [`gradient`](https://numpy.org/doc/stable/reference/generated/numpy.gradient.html) function from `numpy`. The following piece of code calculates two maps: one for the first (`a1`) and one for the second (`a2`) component of $\\vec\\alpha(\\vec\\theta)$: "
   ]
  },
  {
   "cell_type": "code",
   "execution_count": null,
   "metadata": {},
   "outputs": [],
   "source": [
    "import numpy as np\n",
    "a2, a1 = np.gradient(pot)\n",
    "a1=(a1/pixelscale)\n",
    "a2=(a2/pixelscale)"
   ]
  },
  {
   "cell_type": "markdown",
   "metadata": {},
   "source": [
    "The `gradient` function approximates the derivatives by finite differences, assuming that the spacing between the `pot` values is unity by default. On the other hand the spacing in the map is `pixelscale`. Thus, we must divide the gradient components by `pixelscale` to get the correct result.\n",
    "\n",
    "Use the following code to display the maps:"
   ]
  },
  {
   "cell_type": "code",
   "execution_count": null,
   "metadata": {},
   "outputs": [],
   "source": [
    "fig, ax = plt.subplots(1,2,figsize=(18,10))\n",
    "ax[0].imshow(a1,origin='lower',extent=[-fov/2.,fov/2.,-fov/2.,fov/2.],cmap='cubehelix')\n",
    "ax[1].imshow(a2,origin='lower',extent=[-fov/2.,fov/2.,-fov/2.,fov/2.],cmap='cubehelix')\n",
    "\n",
    "for i in range(2):\n",
    "    ax[i].set_xlabel(r'$\\theta_1$ [arcsec]',fontsize=20)\n",
    "    ax[i].set_ylabel(r'$\\theta_2$ [arcsec]',fontsize=20)\n"
   ]
  },
  {
   "cell_type": "markdown",
   "metadata": {},
   "source": [
    "> **TASK: Your **first task** is to discuss these maps: how do they compare with each other? How do they compare with the map of the lensing potential? What is the order of magnitude of the deflections produced by this lens?**\n",
    "\n",
    "\n",
    "TODO: WRITE YOUR ANSWERS HERE\n"
   ]
  },
  {
   "cell_type": "markdown",
   "metadata": {},
   "source": [
    "### Convergence\n",
    "\n",
    "From the previous example, you should have learnt how to compute derivatives of a map using the `numpy.gradient` function. You can now move to **task 2**, which is calculating and displaying the lens convergence.\n",
    "\n",
    "I remind you that twice the convergence is the Laplacian of the lensing potential:\n",
    "\n",
    "$$\n",
    "\\triangle \\hat\\Psi(\\vec\\theta) = 2 \\kappa(\\vec{\\theta}) \n",
    "$$\n",
    "\n",
    "Considering the relation between the lensing potential and the deflection angle, the equation above suggests that you could calculate the Laplacian of $\\hat\\Psi(\\vec\\theta)$ from the spatial derivatives of the deflection angle components... \n",
    "\n",
    "> **TASK: compute the convergence map from the lensing potential.**\n",
    "> **Save the convergence map in an array called `kappa`.**"
   ]
  },
  {
   "cell_type": "code",
   "execution_count": null,
   "metadata": {},
   "outputs": [],
   "source": [
    "# TODO: calculate the convergence\n",
    "....\n",
    "\n",
    "kappa = "
   ]
  },
  {
   "cell_type": "markdown",
   "metadata": {},
   "source": [
    "Use the code below to display the convergence map:"
   ]
  },
  {
   "cell_type": "code",
   "execution_count": null,
   "metadata": {},
   "outputs": [],
   "source": [
    "fig,ax = plt.subplots(1,1,figsize=(10,10))\n",
    "ax.imshow(kappa,origin='lower',extent=[-fov/2.,fov/2.,-fov/2.,fov/2.],vmin=0.0,vmax=3.0,cmap='cubehelix')\n",
    "\n",
    "ax.set_xlabel(r'$\\theta_1$ [arcsec]',fontsize=20)\n",
    "ax.set_ylabel(r'$\\theta_2$ [arcsec]',fontsize=20)"
   ]
  },
  {
   "cell_type": "markdown",
   "metadata": {},
   "source": [
    "> **TASK: Discuss your findings: how does the lensing potential compare to the convergence map?**\n",
    "\n",
    "TODO: WRITE YOUR ANSWERS HERE"
   ]
  },
  {
   "cell_type": "markdown",
   "metadata": {},
   "source": [
    "### Shear maps\n",
    "\n",
    "Now, it is time for your next **task**: compute the shear components. Remember that the shear components were defined using the second derivatives of the lensing potential:\n",
    "\n",
    "$$\n",
    "\\gamma_1(\\vec\\theta) = \\frac{1}{2}[\\hat\\Psi_{11}(\\vec\\theta)-\\hat\\Psi_{22}(\\vec\\theta)]\n",
    "$$\n",
    "\n",
    "and \n",
    "\n",
    "$$\n",
    "\\gamma_2 (\\vec\\theta) = \\hat\\Psi_{12}(\\vec\\theta)=\\hat\\Psi_{21}(\\vec\\theta)\n",
    "$$\n",
    "\n",
    ">**TASK: Compute the shear components from the lensing potential. Write your code in the cell below. Save the maps into two 2D-arrays called `gamma1` and `gamma2`.**"
   ]
  },
  {
   "cell_type": "code",
   "execution_count": null,
   "metadata": {},
   "outputs": [],
   "source": [
    "# TODO: calculate the shear components\n",
    "gamma1 = \n",
    "gamma2 = "
   ]
  },
  {
   "cell_type": "markdown",
   "metadata": {},
   "source": [
    "We can now display the maps:"
   ]
  },
  {
   "cell_type": "code",
   "execution_count": null,
   "metadata": {},
   "outputs": [],
   "source": [
    "fig, ax = plt.subplots(1,2,figsize=(18,10))\n",
    "ax[0].imshow(gamma1,origin='lower',extent=[-fov/2.,fov/2.,-fov/2.,fov/2.],cmap='cubehelix',vmax=1.0,vmin=-1)\n",
    "ax[1].imshow(gamma2,origin='lower',extent=[-fov/2.,fov/2.,-fov/2.,fov/2.],cmap='cubehelix',vmax=1.0,vmin=-1)\n",
    "\n",
    "for i in range(2):\n",
    "    ax[i].set_xlabel(r'$\\theta_1$ [arcsec]',fontsize=20)\n",
    "    ax[i].set_ylabel(r'$\\theta_2$ [arcsec]',fontsize=20)"
   ]
  },
  {
   "cell_type": "markdown",
   "metadata": {},
   "source": [
    "### Shear direction\n",
    "\n",
    "The next **task** is a bit trickier. You have to visualize the shear using sticks (not arrows, because the shear is not a vector but a tensor!) overlaid on the lens convergence map, to show the shear direction compared to the underlying lens mass distribution. This representation will allow us to better understand how distant sources could be distorted due to gravitational lensing.\n",
    "\n",
    "Since the maps shown above have a quite large number of pixels, we better downsample the maps. For doing this, we need to build a coarser grid covering the same regions displayed above. For example, let's say we want to sample the maps at 64x64 points. The following code would do the job: "
   ]
  },
  {
   "cell_type": "code",
   "execution_count": null,
   "metadata": {},
   "outputs": [],
   "source": [
    "pixel_step=gamma1.shape[1]/64 \n",
    "theta1,theta2 = np.meshgrid(np.arange(0,gamma1.shape[1],pixel_step),\n",
    "                  np.arange(0,gamma1.shape[0],pixel_step))\n",
    "\n",
    "theta1=(theta1+pixel_step/2-1).astype(int)\n",
    "theta2=(theta2+pixel_step/2-1).astype(int)\n",
    "\n",
    "fig,ax = plt.subplots(1,1,figsize=(10,10))\n",
    "myplot=ax.plot(theta1,theta2,'o',color='red',ms=0.5)\n",
    "xlim=[0,gamma1.shape[1]-1]\n",
    "ylim=[0,gamma1.shape[1]-1]\n",
    "\n",
    "ax.imshow(kappa,origin='lower',vmax=3,cmap='cubehelix')\n"
   ]
  },
  {
   "cell_type": "markdown",
   "metadata": {},
   "source": [
    "The red points indicate the new positions on the maps where the shear will be sampled.\n",
    "\n",
    "To represent the shear with sticks, you will use the [`quiver`](https://matplotlib.org/stable/api/_as_gen/matplotlib.pyplot.quiver.html) function from `matplotlib.pyplot`. The inputs you must provide are: \n",
    "\n",
    "1) the coordinates where you want to represent the shear; \n",
    "2) the components of the headless vectors that quiver will draw.  \n",
    "\n",
    ">**TASK: You will produce a figure with two panels. On the left, you will display the convergence map with overlaid sticks whose orientation will show the shear direction and whose length will be proportional to the shear modulus. On the right, you will display again the convergence map and the sticks, but the sticks will have all the same length.**\n",
    ">\n",
    ">To make the vectors headless with `quiver`, you will specify `headwidth=0.0` in the function call.\n",
    "\n",
    "> **Tip**: the shear cannot be represented with vectors whose components are $\\gamma_1$ and $\\gamma_2$. Instead remember that the shear acts by stretching images along a direction forming an angle $\\phi$ with the $\\theta_1$ axis. This angle can be derived from the shear components.\n",
    "\n",
    "> **Tip**: check out the manual for the function [`numpy.arctan2`](https://numpy.org/doc/stable/reference/generated/numpy.arctan2.html) \n",
    "\n"
   ]
  },
  {
   "cell_type": "code",
   "execution_count": null,
   "metadata": {},
   "outputs": [],
   "source": [
    "# TODO: in the next line, you should calculate the angles defining the shear direction\n",
    "phi =\n",
    "\n",
    "# TODO: now compute the shear modulus\n",
    "gamma =\n",
    "\n",
    "# for visualization purposes, we rescale the shear modulus by a factor of 5\n",
    "gamma *= 5\n",
    "# in addotion we saturate the shear values at gamma=2\n",
    "ind = gamma > 3.0\n",
    "gamma[ind]=3\n",
    "\n",
    "# use these instructions to display the figure\n",
    "fig,ax=plt.subplots(1,2,figsize=(18,8))\n",
    "ax[0].imshow(kappa,origin='lower',vmax=3,cmap='cubehelix')\n",
    "ax[1].imshow(kappa,origin='lower',vmax=3,cmap='cubehelix')\n",
    "\n",
    "# showing the intensity and the orientation of the shear\n",
    "ax[0].quiver(theta1,theta2,gamma[theta2,theta1]*np.cos(phi[theta2,theta1]),gamma[theta2,theta1]*np.sin(phi[theta2,theta1]),\n",
    "             headwidth=0,units=\"height\",scale=None,color=\"white\")\n",
    "ax[0].quiver(theta1,theta2,-gamma[theta2,theta1]*np.cos(phi[theta2,theta1]),-gamma[theta2,theta1]*np.sin(phi[theta2,theta1]),\n",
    "             headwidth=0,units=\"height\",scale=None,color=\"white\")\n",
    "\n",
    "# showing only the orientation of the shear (first eigenvector)\n",
    "fact=1.2\n",
    "ax[1].quiver(theta1,theta2,fact*np.cos(phi[theta2,theta1]),fact*np.sin(phi[theta2,theta1]),\n",
    "             headwidth=0,units=\"height\",scale=theta1.shape[0],color=\"white\")\n",
    "ax[1].quiver(theta1,theta2,-fact*np.cos(phi[theta2,theta1]),-fact*np.sin(phi[theta2,theta1]),\n",
    "             headwidth=0,units=\"height\",scale=theta1.shape[0],color=\"white\")"
   ]
  },
  {
   "cell_type": "markdown",
   "metadata": {},
   "source": [
    "## Exercise 2: Ray-Tracing\n",
    "\n",
    "In this second part of the Notebook, we will focus on the lens equation and implement a ray-tracing code. By ray-tracing, I mean propagating a bundle of light rays from the observer position through a 2D mesh on the lens plane until they reach the source plane. This procedure requires to implement the lens equation:\n",
    "\n",
    "Let $\\vec\\theta_{ij}$ be the coordinates of the mesh points on the lens plane. Let $\\vec\\alpha(\\vec\\theta_{ij})$ be the defelction angles at positions $\\vec\\theta_{ij}$. Then, the lens equation states that the arrival positions of the light rays on the source plane are \n",
    "$$\n",
    "\\vec\\beta_{i,j}=\\vec\\theta_{ij}-\\vec\\alpha(\\vec\\theta_{ij})\n",
    "$$\n",
    "\n",
    ">**TASK: Let's consider the mesh of 64x64 points from the previous equation. Write the code for implementing the lens equation and map these points onto the source plane.**"
   ]
  },
  {
   "cell_type": "code",
   "execution_count": null,
   "metadata": {},
   "outputs": [],
   "source": [
    "#TODO: map the points (theta1,theta2) on the lens plane onto the points (beta1,beta2) on the source plane\n",
    "\n",
    "# theta1 and theta2 are in pixel units, while a1 and a2 are in arcsec with respect to the center of the FOV\n",
    "theta1_ = theta1*pixelscale - fov/2.\n",
    "theta2_ = theta2*pixelscale - fov/2.\n",
    "\n",
    "# tip: the deflection angle at position (i,j) should be a[j,i]!\n",
    "beta1 =\n",
    "beta2 = \n"
   ]
  },
  {
   "cell_type": "markdown",
   "metadata": {},
   "source": [
    ">**TASK: Executing the next cell, you will produce a plot showing the grid $\\vec\\theta_{ij}$ on the lens plane in gray (left panel). The grid is overlaid to the convergence map. The resulting grid $\\beta_{ij}$ on the source plane (right panel) is shown in blue. Discuss the results: how does the region covered by the ray grid on the lens and source planes compare in terms of sizes and shapes?** \n",
    ">\n",
    ">**Two regions of the grid on the lens plane have been selected and colored in red and orange. The same colors are used to represent the same grid points mapped onto the >source plane. What do you notice?**\n",
    "\n",
    "\n",
    "TODO: WRITE YOUR ANSWERS HERE"
   ]
  },
  {
   "cell_type": "code",
   "execution_count": null,
   "metadata": {},
   "outputs": [],
   "source": [
    "from matplotlib.collections import LineCollection\n",
    "\n",
    "def plot_grid(x,y, ax=None, **kwargs):\n",
    "    ax = ax or plt.gca()\n",
    "    segs1 = np.stack((x,y), axis=2)\n",
    "    segs2 = segs1.transpose(1,0,2)\n",
    "    ax.add_collection(LineCollection(segs1, **kwargs))\n",
    "    ax.add_collection(LineCollection(segs2, **kwargs))\n",
    "\n",
    "\n",
    "fig, ax = plt.subplots(1,2,figsize=(20,10))\n",
    "for i in [0,1]:\n",
    "    ax[i].set_xlim([-fov/2.,fov/2])\n",
    "    ax[i].set_ylim([-fov/2.,fov/2])\n",
    "ax[0].imshow(kappa,origin='lower',extent=[-fov/2.,fov/2.,-fov/2.,fov/2.],vmax=3)\n",
    "ax[1].imshow(kappa,alpha=0)\n",
    "\n",
    "\n",
    "plot_grid(theta1_,theta2_, ax=ax[0],  color=\"lightgrey\")\n",
    "plot_grid(beta1, beta2, ax=ax[1], color=\"C0\")\n",
    "\n",
    "# select the upper left corner of the grid\n",
    "iid = (theta1 > theta1[-6,-6]) & (theta2 > theta2[-6,-6])\n",
    "n=np.sqrt(len(theta1_[iid])).astype(int)\n",
    "\n",
    "t0_1 = theta1_[iid].reshape(n,n)\n",
    "t0_2 = theta2_[iid].reshape(n,n)\n",
    "\n",
    "b0_1 = beta1[iid].reshape(n,n)\n",
    "b0_2 = beta2[iid].reshape(n,n)\n",
    "\n",
    "\n",
    "plot_grid(t0_1, t0_2, ax=ax[0], color=\"red\")\n",
    "plot_grid(b0_1, b0_2, ax=ax[1], color=\"red\")\n",
    "\n",
    "\n",
    "# select a more central region of the grid\n",
    "iid = (theta1 > 800) &  (theta1 < 1300) & (theta2 > 800) &  (theta2 < 1300) \n",
    "n=np.sqrt(len(theta1_[iid])).astype(int)\n",
    "\n",
    "t1_1 = theta1_[iid].reshape(n,n)\n",
    "t1_2 = theta2_[iid].reshape(n,n)\n",
    "\n",
    "b1_1 = beta1[iid].reshape(n,n)\n",
    "b1_2 = beta2[iid].reshape(n,n)\n",
    "\n",
    "\n",
    "plot_grid(t1_1, t1_2, ax=ax[0], color=\"orange\")\n",
    "plot_grid(b1_1, b1_2, ax=ax[1], color=\"orange\")"
   ]
  },
  {
   "cell_type": "markdown",
   "metadata": {},
   "source": [
    "Let's focus in particular on what happens in the most dense region of the lens plane (orange points):"
   ]
  },
  {
   "cell_type": "code",
   "execution_count": null,
   "metadata": {},
   "outputs": [],
   "source": [
    "fig, ax = plt.subplots(1,2,figsize=(20,10))\n",
    "for i in [0,1]:\n",
    "    ax[i].set_xlim([t1_1.min()-10,t1_1.max()+10])\n",
    "    ax[i].set_ylim([t1_2.min()-10,t1_2.max()+10])\n",
    "ax[0].imshow(kappa,origin='lower',extent=[-fov/2.,fov/2.,-fov/2.,fov/2.],vmax=3)\n",
    "ax[1].imshow(kappa,alpha=0)\n",
    "\n",
    "\n",
    "plot_grid(t1_1, t1_2, ax=ax[0], color=\"orange\")\n",
    "plot_grid(b1_1, b1_2, ax=ax[1], color=\"orange\")"
   ]
  },
  {
   "cell_type": "markdown",
   "metadata": {},
   "source": [
    ">**TASK: Is the mapping between the lens and the source plane linear in this region? Discuss this result comparing with the deflection angle maps computed earlier.**\n",
    "\n",
    "TODO: WRITE YOUR ANSWERS HERE"
   ]
  },
  {
   "cell_type": "markdown",
   "metadata": {},
   "source": [
    "## Exercise 3: Magnification\n",
    "\n",
    "### Lensing Jacobian and Magnification map\n",
    "\n",
    "The next task is displaying the magnification map. As seen during Lecture 2, the magnification $\\mu(\\vec\\theta)$ is the inverse of the determinant of the lensing Jacobian:\n",
    "\n",
    "$$\n",
    "\\det A(\\vec\\theta) = [1-\\kappa(\\vec\\theta)-\\gamma(\\vec\\theta)][1-\\kappa(\\vec\\theta)+\\gamma(\\vec\\theta)]\n",
    "$$\n",
    "\n",
    ">**TASK: In the cell below, write the instruction to compute the Jacobian determinant from the previously calculated `kappa` and `gamma`. Call it `detA`.** \n",
    "\n"
   ]
  },
  {
   "cell_type": "code",
   "execution_count": null,
   "metadata": {},
   "outputs": [],
   "source": [
    "# TODO: compute the shear modulus and the determinant of the lensing Jacobian\n",
    "\n",
    "detA = "
   ]
  },
  {
   "cell_type": "markdown",
   "metadata": {},
   "source": [
    "Use the next piece of code to display the absolute magnification map. \n",
    "\n",
    "> **Note**: The magnification can be negative! Negative magnifications imply parity inversion in the lensed images.\n",
    "\n",
    "In a second step, uncomment the line to display the zero level contours of the lensing Jacobian. Along these lines the magnification is infinite. They are called *critical lines*."
   ]
  },
  {
   "cell_type": "code",
   "execution_count": null,
   "metadata": {},
   "outputs": [],
   "source": [
    "fig,ax = plt.subplots(1,1,figsize=(10,10))\n",
    "ax.imshow(np.abs(1./detA),origin='lower',extent=[-fov/2.,fov/2.,-fov/2.,fov/2.],cmap='cubehelix',vmin=0.,vmax=100)\n",
    "#ax.contour(detA,linestyles=['-'],levels=[0.0],extent=[-fov/2.,fov/2.,-fov/2.,fov/2.],colors='red')\n",
    "\n",
    "ax.set_xlabel(r'$\\theta_1$ [arcsec]',fontsize=20)\n",
    "ax.set_ylabel(r'$\\theta_2$ [arcsec]',fontsize=20)"
   ]
  },
  {
   "cell_type": "markdown",
   "metadata": {},
   "source": [
    "### Critical lines\n",
    "\n",
    "There are two types of critical lines. Indeed, the lensing Jacobian has two eigenvalues:\n",
    "\n",
    "$\n",
    "\\lambda_t(\\vec\\theta) = 1-\\kappa(\\vec\\theta)-\\gamma(\\vec\\theta)\n",
    "$\n",
    "\n",
    "and \n",
    "\n",
    "$\n",
    "\\lambda_t(\\vec\\theta) = 1-\\kappa(\\vec\\theta)+\\gamma(\\vec\\theta)\n",
    "$\n",
    "\n",
    "The Jacobian determinant is zero whenever one of the two eigenvalues is zero:\n",
    "* the points $\\vec\\theta_t$ where $\\lambda_t(\\vec\\theta_t)=0$ form the *tangential critical lines*;\n",
    "* the points $\\vec\\theta_r$ where $\\lambda_r(\\vec\\theta_r)=0$ form the *radial critical lines*;\n",
    "\n",
    ">**TASK: Your next task is to make a new plot displaying the magnification as above, but drawing the tangential and radial critical lines with two different colors.**"
   ]
  },
  {
   "cell_type": "code",
   "execution_count": null,
   "metadata": {},
   "outputs": [],
   "source": [
    "# TODO: display the tangential and radial critical lines using two different colors\n",
    "\n"
   ]
  },
  {
   "cell_type": "markdown",
   "metadata": {},
   "source": [
    "### Caustics\n",
    "\n",
    "If we map the critical lines onto the source plane, we find the *caustics*. \n",
    "\n",
    "The following piece of code (using the [`measure.find_countours`](https://scikit-image.org/docs/stable/auto_examples/edges/plot_contours.html) from the `scikit-image` package) can be used to store the zero level contours of the lensing Jacobian maps into lists of coordinates that we can then map onto the source plane using the lens equation."
   ]
  },
  {
   "cell_type": "code",
   "execution_count": null,
   "metadata": {},
   "outputs": [],
   "source": [
    "from skimage import measure\n",
    "critlines = measure.find_contours(detA, 0.0)\n",
    "print (('I found %i critical lines') % (len(critlines)))"
   ]
  },
  {
   "cell_type": "markdown",
   "metadata": {},
   "source": [
    "We can display the critical lines using different colors as follows:"
   ]
  },
  {
   "cell_type": "code",
   "execution_count": null,
   "metadata": {},
   "outputs": [],
   "source": [
    "fig,ax = plt.subplots(1,1,figsize=(10,10))\n",
    "\n",
    "for cl in critlines:\n",
    "    thetac2, thetac1 = cl[:,0], cl[:,1]\n",
    "    thetac1 = thetac1 * pixelscale - fov/2.0\n",
    "    thetac2 = thetac2 * pixelscale - fov/2.0\n",
    "    ax.plot(thetac1, thetac2, '-')\n",
    "\n",
    "ax.set_xlim([-fov/2.,fov/2.])\n",
    "ax.set_ylim([-fov/2.,fov/2.])\n",
    "\n",
    "ax.set_xlabel(r'$\\theta_1$ [arcsec]',fontsize=20)\n",
    "ax.set_ylabel(r'$\\theta_2$ [arcsec]',fontsize=20)"
   ]
  },
  {
   "cell_type": "markdown",
   "metadata": {},
   "source": [
    "To map the critical points onto the source plane, we need to read their deflection angles off the deflection angle maps. This operation can be completed with the [`ndimage.map_coordinates`](https://docs.scipy.org/doc/scipy/reference/generated/scipy.ndimage.map_coordinates.html) of `scipy`: "
   ]
  },
  {
   "cell_type": "code",
   "execution_count": null,
   "metadata": {},
   "outputs": [],
   "source": [
    "from scipy.ndimage import map_coordinates\n",
    "\n",
    "fig,ax = plt.subplots(1,1,figsize=(10,10))\n",
    "\n",
    "for cl in critlines:\n",
    "    thetac2, thetac1 = cl[:,0], cl[:,1]\n",
    "    ac1 = map_coordinates(a1, [[thetac2], [thetac1]], order=1, prefilter=True)\n",
    "    ac2 = map_coordinates(a2, [[thetac2], [thetac1]], order=1, prefilter=True)\n",
    "\n",
    "    thetac1 = thetac1 * pixelscale - fov/2.0\n",
    "    thetac2 = thetac2 * pixelscale - fov/2.0\n",
    "\n",
    "    betac1 = thetac1 - ac1[0]\n",
    "    betac2 = thetac2 - ac2[0]\n",
    "\n",
    "    ax.plot(betac1, betac2, '-')\n",
    "\n",
    "ax.set_xlim([-fov/2.,fov/2.])\n",
    "ax.set_ylim([-fov/2.,fov/2.])\n",
    "\n",
    "ax.set_xlabel(r'$\\beta_1$ [arcsec]',fontsize=20)\n",
    "ax.set_ylabel(r'$\\beta_2$ [arcsec]',fontsize=20)"
   ]
  },
  {
   "cell_type": "markdown",
   "metadata": {},
   "source": [
    "Let's focus on the largest caustic near the center of the FOV and draw them on the top of the figure displaying the orange distorted grid from the previous exercise: "
   ]
  },
  {
   "cell_type": "code",
   "execution_count": null,
   "metadata": {},
   "outputs": [],
   "source": [
    "fig, ax = plt.subplots(1,2,figsize=(20,10))\n",
    "for i in [0,1]:\n",
    "    ax[i].set_xlim([t1_1.min()-10,t1_1.max()+10])\n",
    "    ax[i].set_ylim([t1_2.min()-10,t1_2.max()+10])\n",
    "ax[0].imshow(kappa,origin='lower',extent=[-fov/2.,fov/2.,-fov/2.,fov/2.],vmax=3)\n",
    "ax[1].imshow(kappa,alpha=0)\n",
    "\n",
    "\n",
    "plot_grid(t1_1, t1_2, ax=ax[0], color=\"orange\")\n",
    "plot_grid(b1_1, b1_2, ax=ax[1], color=\"orange\")\n",
    "\n",
    "critlines_sorted = sorted(critlines,key=lambda x: len(x),reverse=True)\n",
    "cl = critlines_sorted[0]\n",
    "thetac2, thetac1 = cl[:,0], cl[:,1]\n",
    "ac1 = map_coordinates(a1, [[thetac2], [thetac1]], order=1, prefilter=True)\n",
    "ac2 = map_coordinates(a2, [[thetac2], [thetac1]], order=1, prefilter=True)\n",
    "\n",
    "thetac1 = thetac1 * pixelscale - fov/2.0\n",
    "thetac2 = thetac2 * pixelscale - fov/2.0\n",
    "\n",
    "betac1 = thetac1 - ac1[0]\n",
    "betac2 = thetac2 - ac2[0]\n",
    "\n",
    "ax[1].plot(betac1, betac2, '-')"
   ]
  },
  {
   "cell_type": "markdown",
   "metadata": {},
   "source": [
    ">**TASK: What do you notice? How can you interpret what you see?**\n",
    "\n",
    "\n",
    "TODO: WRITE YOUR ANSWER HERE"
   ]
  },
  {
   "cell_type": "markdown",
   "metadata": {},
   "source": [
    "The caustics that correspond to the tangential and radial critical lines are called *tangential* and *radial* caustics, respectively. \n",
    "\n",
    ">**TASK: Your last task for this Notebook is to repeat the previous calculations for the tangential and radial critical lines separately, producing a figure that shows all the tangential caustics in blue and all the radial critical lines in red.**"
   ]
  },
  {
   "cell_type": "code",
   "execution_count": null,
   "metadata": {},
   "outputs": [],
   "source": [
    "# TODO: produce a figure that shows all the tangential caustics in blue and all the radial critical lines in red.\n"
   ]
  }
 ],
 "metadata": {
  "kernelspec": {
   "display_name": "Python 3.8.15 ('tonale')",
   "language": "python",
   "name": "python3"
  },
  "language_info": {
   "codemirror_mode": {
    "name": "ipython",
    "version": 3
   },
   "file_extension": ".py",
   "mimetype": "text/x-python",
   "name": "python",
   "nbconvert_exporter": "python",
   "pygments_lexer": "ipython3",
   "version": "3.8.15"
  },
  "orig_nbformat": 4,
  "vscode": {
   "interpreter": {
    "hash": "80049abdef48e04a217b57438db502bd877ddf91a719032c10ed240a9419ff14"
   }
  }
 },
 "nbformat": 4,
 "nbformat_minor": 2
}

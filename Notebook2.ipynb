{
 "cells": [
  {
   "cell_type": "markdown",
   "metadata": {},
   "source": [
    "## Tonale Winter School on Cosmology 2022 \n",
    "# Tutorial on Gravitational Lensing\n",
    "\n",
    "## Exercise 4: Time delays\n",
    "\n",
    "In this tutorial, you will play with time delay surfaces. More specifically, you will build a sort of app to visualize the time delay surfaces of circular and elliptical lenses.\n",
    "\n",
    ">**Warning**: it is important that you execute the cells following the order given in the Notebook. If you execute a cell changing the value of a variable and then go back to some previous cell in the Notebook, the variable value will not change!\n",
    "\n",
    "Let's begin with importing some useful packages:"
   ]
  },
  {
   "cell_type": "code",
   "execution_count": null,
   "metadata": {},
   "outputs": [],
   "source": [
    "# import some useful packages and \n",
    "\n",
    "import matplotlib\n",
    "%matplotlib widget\n",
    "import matplotlib.pyplot as plt\n",
    "import numpy as np \n",
    "from mpl_toolkits.mplot3d import Axes3D\n",
    "from matplotlib import cm\n",
    "from astropy.cosmology import FlatLambdaCDM\n",
    "from PIL import Image\n",
    "fontsize = 15 # set the font size for labels in the plots"
   ]
  },
  {
   "cell_type": "markdown",
   "metadata": {},
   "source": [
    "We define a Field-of-View and decide the number of pixels on the time delay surfaces:"
   ]
  },
  {
   "cell_type": "code",
   "execution_count": null,
   "metadata": {},
   "outputs": [],
   "source": [
    "FOV = 5.0 # the Field-of-View will be FOVxFOV arcsec \n",
    "npix= 512 # the number of pixels in the maps will be (npix x npix)"
   ]
  },
  {
   "cell_type": "markdown",
   "metadata": {},
   "source": [
    "We build a mesh (`theta1`,`theta2`) on the lens plane covering the FOV:"
   ]
  },
  {
   "cell_type": "code",
   "execution_count": null,
   "metadata": {},
   "outputs": [],
   "source": [
    "theta = np.linspace(-FOV/2., FOV/2, npix)\n",
    "theta1, theta2 = np.meshgrid(theta,theta)"
   ]
  },
  {
   "cell_type": "markdown",
   "metadata": {},
   "source": [
    "### Geometrical time delay\n",
    "\n",
    ">**TASK**: Your first task is to write a function that compute the map of the geometrical time delay:\n",
    "> \n",
    "> $\n",
    ">\\tau_{geom}(\\vec\\theta) = \\frac{1}{2}(\\vec\\theta-\\vec\\beta)^2\n",
    ">$\n",
    ">\n",
    "> You just need to fill the code below with what is missing. **For the moment, neglect the cosmology dependent factor $\\frac{1+z_L}{c}\\frac{D_LD_S}{D_{LS}}$**."
   ]
  },
  {
   "cell_type": "code",
   "execution_count": null,
   "metadata": {},
   "outputs": [],
   "source": [
    "def geom_tdelay(theta1,theta2,beta1=0.0,beta2=0.0):\n",
    "    \"\"\"\n",
    "    Function to calculate the geometrical time delay:\n",
    "    inputs: \n",
    "    - theta1, theta2 :: mesh of coordinates where the time delay will be evaluated\n",
    "    - beta1, beta2 :: unlensed source coordinates\n",
    "    output: \n",
    "    - geometrical time delay surface  \n",
    "    \"\"\"\n",
    "    #TODO: write the geometrical time delay as return value of this function \n",
    "    return ..."
   ]
  },
  {
   "cell_type": "markdown",
   "metadata": {},
   "source": [
    "You can use the function `show_tdsurface` to visualize the geometrical time delay. Change the source position as you like, but keep it inside the FOV. "
   ]
  },
  {
   "cell_type": "code",
   "execution_count": null,
   "metadata": {},
   "outputs": [],
   "source": [
    "def show_tdsurface(surf,theta1,theta2,ax3d,alpha=0.5,cmap='cubehelix',fontsize=20,rstride=20,cstride=20,levels=30,buf=1.0):\n",
    "    \"\"\"\n",
    "    Function to display the time delay surface in a 3D plot\n",
    "    inputs:\n",
    "    - surf: the surface to be displayed\n",
    "    - theta1,theta2: the coordinates where the surface was evaluated\n",
    "    - ax3d: the 3D axes where the plot will be drawn\n",
    "    - alpha: the transparency of the surface\n",
    "    - cmap: the color map used\n",
    "    - fontsize: the label fontsize\n",
    "    - rstride: downsampling stride along rows\n",
    "    - cstride: downsampling stride along columns\n",
    "    - levels: list of contour levels or their number\n",
    "    - buf: buffer around the plot\n",
    "\n",
    "    output: the plot!\n",
    "    \"\"\"\n",
    "    surf=surf-np.amin(surf)\n",
    "    ax3d.plot_surface(theta1,theta2,surf,cmap=cmap,alpha=0.5,edgecolor='royalblue',antialiased=True,rstride=rstride,cstride=cstride)\n",
    "    cset = ax3d.contourf(theta1,theta2,surf,zdir='z',offset=np.amin(surf),cmap=cmap,levels=levels)\n",
    "    cset = ax3d.contour(theta1,theta2,surf,zdir='x',offset=np.amin(theta1)-buf,cmap=cmap.reversed(),levels=levels)#, levels=[0])\n",
    "    cset = ax3d.contour(theta1,theta2,surf,zdir='y',offset=-np.amin(theta2)+buf,cmap=cmap.reversed(),levels=levels)#, levels=[0])\n",
    "    ax3d.set_xlabel(r'$\\theta_1$',fontsize=fontsize)\n",
    "    ax3d.set_ylabel(r'$\\theta_2$',fontsize=fontsize)\n",
    "    ax3d.set_zlabel(r'$\\Delta t(\\vec\\theta)$',fontsize=fontsize)\n",
    "    ax3d.set_xlim3d(np.amin(theta1)-buf, np.amax(theta1)+buf)\n",
    "    ax3d.set_ylim3d(np.amin(theta2)-buf, np.amax(theta2)+buf)\n",
    "    ax3d.set_aspect('auto')\n",
    "    #ax3d.autoscale()\n",
    "\n",
    "\n",
    "geomtd = geom_tdelay(theta1,theta2,beta1=1.0,beta2=1.0)\n",
    "\n",
    "\n",
    "fig = plt.figure(figsize=(8,8))\n",
    "ax3d = fig.add_subplot(111, projection='3d')\n",
    "show_tdsurface(geomtd,theta1,theta2,ax3d=ax3d,cmap=cm.coolwarm,fontsize=fontsize,buf=0.1)   \n",
    "\n"
   ]
  },
  {
   "cell_type": "markdown",
   "metadata": {},
   "source": [
    "The function displays the geometrical time delay as a surface. This surface is a paraboloid with a minimum at $\\vec\\beta=(\\beta_1,\\beta_2)$. By setting the `levels` option to a value or to a list of values, you can define filled contour profiles that will be projected on the 'walls' of the graph. If the `widget` mode is working on your computer, you should be able to rotate the plot using your mouse.\n",
    "\n",
    "### Gravitational time delay\n",
    "\n",
    "As part of the tutorial package, you downloaded a module called `lensmodel`, which contains some classes useful to work with lens models. In this example, we use the Softened Isothermal Elliptical (SIE) model [(Oguri 2022)](https://github.com/oguri/glafic2/blob/main/manual/man_glafic.pdf). The convergence of this lens is given by\n",
    "$$\n",
    "\\kappa(\\vec\\theta) = \\frac{b_{SIE}(q)}{2\\sqrt{s^2(q)+\\theta_1^2+\\theta_2^2/q^2}}\n",
    "$$\n",
    "where $q$ is the axis ratio. The normalization $b_{SIE}$ is related to the lens velocity dispersion $\\sigma$, since \n",
    "$$\n",
    "b_{SIE}(1)=4\\pi\\left(\\frac{\\sigma}{c}\\right)^2\\frac{D_{LS}}{D_S}.\n",
    "$$\n",
    "Instead, the function $s(q)$ is related to the core radius $\\theta_c$, since \n",
    "$$\n",
    "s(1) = \\theta_c.\n",
    "$$\n",
    "The scaling of $b_{SIE}$ and $s$ with $q$ is given by \n",
    "$$\n",
    "\\frac{b_{SIE}(q)}{b_{SIE}(1)} = \\frac{s(q)}{s(1)}=\\frac{1}{\\sqrt(q)}.\n",
    "$$\n",
    "The peculiarity of this lens model is that it has a singular isothermal profile $\\kappa(\\theta)\\propto \\theta^{-1}$ for $\\theta_c=0$. In the presence of a core radius $\\theta_c>0$, the singularity is removed. Of course for $q=1$ the model becomes circular. In the implementation that you will find in the module `lensmodel`, the rotation of the lens by an angle `pa` counter-clockwise with respect to the axis $\\theta_1$ has been implemented.\n",
    "\n",
    "First, we define a cosmological model. We use the [`FlatLambdaCDM`](https://docs.astropy.org/en/stable/api/astropy.cosmology.FlatLambdaCDM.html) class from the `astropy.cosmology` module and set $\\Omega_m=0.3$ and $H_0=72$ km $s^{-1}$ $\\mathrm{Mpc}^{-1}$.\n",
    "\n",
    "\n"
   ]
  },
  {
   "cell_type": "code",
   "execution_count": null,
   "metadata": {},
   "outputs": [],
   "source": [
    "from lensmodels import *\n",
    "co = FlatLambdaCDM(H0=70.0, Om0=0.3)"
   ]
  },
  {
   "cell_type": "markdown",
   "metadata": {},
   "source": [
    "To create an instance `lens` of the SIE lens, you need to specify the lens parameters (`thetac`,`sigma0`,`q`,`pa`) and position (`x1`,`x2`) in a dictionary that is then passed to the class `__init__` function together with the cosmological model `co`. The dictionary contains also the lens and source redshift needed to compute the angular diameter distances between observer, lens, and source. For example, to create a mock galaxy-scale lens, you could run the following code:"
   ]
  },
  {
   "cell_type": "code",
   "execution_count": null,
   "metadata": {},
   "outputs": [],
   "source": [
    "zl = 0.5\n",
    "zs = 2.0\n",
    "\n",
    "kwargs = {'zl': zl,\n",
    "          'zs': zs,\n",
    "          'sigma0': 300.0,\n",
    "          'q': 0.6,\n",
    "          'pa': 0.0,\n",
    "          'theta_c': 0.01,\n",
    "          'x1': 0.0,\n",
    "          'x2': 0.0}\n",
    "\n",
    "lens = sie(co,**kwargs)\n",
    "lens.setGrid(theta=theta)"
   ]
  },
  {
   "cell_type": "markdown",
   "metadata": {},
   "source": [
    "when the function `setGrid` is called, all the lensing maps are automatically created. The coordinates of the grid points are set by the vector `theta`. They are in the range `[-theta/2,theta/2]` along both the $\\theta_1$ and $\\theta_2$ axes. The lensing potential map is stored in the `pot` attribute of the `lens` object. Thus, you can plot the lensing potential as follows: "
   ]
  },
  {
   "cell_type": "code",
   "execution_count": null,
   "metadata": {},
   "outputs": [],
   "source": [
    "#%matplotlib inline\n",
    "%matplotlib widget\n",
    "\n",
    "fig = plt.figure(figsize=(13.8,8))\n",
    "ax=fig.add_subplot(121)\n",
    "ax.imshow(lens.pot,extent=[-FOV/2.,FOV/2.,-FOV/2.,FOV/2.],cmap=cm.coolwarm) \n",
    "ax.contour(lens.pot,extent=[-FOV/2.,FOV/2.,-FOV/2.,FOV/2.])\n",
    "ax.set_xlabel(r'$\\theta_1$',fontsize=fontsize)\n",
    "ax.set_ylabel(r'$\\theta_2$',fontsize=fontsize)\n",
    "ax.xaxis.set_tick_params(labelsize=fontsize)\n",
    "ax.yaxis.set_tick_params(labelsize=fontsize)\n",
    "\n",
    "ax3d = fig.add_subplot(122, projection='3d')\n",
    "show_tdsurface(-lens.pot,theta1,theta2,ax3d=ax3d,cmap=cm.coolwarm,fontsize=fontsize,levels=30,alpha=0.3,buf=0.1)"
   ]
  },
  {
   "cell_type": "markdown",
   "metadata": {},
   "source": [
    "The panel on the left shows the lensing potential map. On the right, you can see the gravitational time delay surface\n",
    "$$\n",
    "\\tau_{grav}(\\vec\\theta)=-\\hat{\\Psi}(\\vec\\theta) .\n",
    "$$\n",
    "\n",
    ">**TASK**: try to modify the lens parameters to see how the lensing potential and the gravitational time delay change.\n",
    "\n",
    "### Time delay surface\n",
    "\n",
    "The time delay surface is the sum of the geometrical and gravitational time delays. Actually, so far you only calculated the two terms of the Fermat potential\n",
    "$$\n",
    "\\tau(\\vec\\theta) = \\frac{1}{2}(\\vec\\theta-\\vec\\beta)^2-\\hat\\Psi(\\vec\\theta).\n",
    "$$\n",
    "\n",
    "The time delay is\n",
    "$$\n",
    "\\Delta t(\\vec\\theta)=\\frac{1+z_L}{c}\\frac{D_LD_S}{D_{LS}}\\tau(\\vec\\theta).\n",
    "$$\n",
    "The cosmology-dependent factor that you need to multiply by $\\tau(\\vec\\theta)$ is stored in `lens` as the attribute `conv_fact_time.value`.\n",
    "\n",
    ">**TASK**: complete the code below to display the time delay surface for a given combination of source and SIE lens.\n"
   ]
  },
  {
   "cell_type": "code",
   "execution_count": null,
   "metadata": {},
   "outputs": [],
   "source": [
    "%matplotlib widget\n",
    "\n",
    "# TODO: compute the geometrical time delay \\tau_{geom} for a given source\n",
    "beta1 = ...\n",
    "beta2 = ...\n",
    "geomtd = ...\n",
    "\n",
    "# TODO: compute the gravitational time delay \\tau_{grav} for a given SIE lens\n",
    "\n",
    "zl = 0.5\n",
    "zs = 2.0\n",
    "\n",
    "...\n",
    "\n",
    "gravtd = ...\n",
    "\n",
    "# TODO: sum the two components of the Fermat potential and multiply by lens.conv_fact_time\n",
    "td  = ...\n",
    "\n",
    "# define some contour levels\n",
    "max_td = 1.5*((-lens.pot).max()-td.min())\n",
    "\n",
    "if max_td>0:\n",
    "    levels = np.linspace(0,max_td,30)\n",
    "else:\n",
    "    levels=30\n",
    "\n",
    "# define some contour levels\n",
    "max_td = 1.5*((-lens.pot).max()-td.min())\n",
    "\n",
    "if max_td>0:\n",
    "    levels = np.linspace(0,max_td,30)\n",
    "else:\n",
    "    levels=30\n",
    "    \n",
    "# display the time delay surface\n",
    "fig = plt.figure(figsize=(8,8))\n",
    "ax3d = fig.add_subplot(111, projection='3d')\n",
    "show_tdsurface(td,theta1,theta2,ax3d=ax3d,cmap=cm.coolwarm,fontsize=fontsize,levels=levels,alpha=0.3,buf=0.1)"
   ]
  },
  {
   "cell_type": "markdown",
   "metadata": {},
   "source": [
    ">**TASK**: How many images will the lens produce for the source at the position you have chosen?\n",
    "\n",
    ">**TASK**: Keep the lens at the center of the FOV. Consider several source positions and discuss how the time delay surface changes.\n",
    "\n",
    ">**TASK**: Set $q=0$ and $\\sigma=300$ km $s^{-1}$ (try several values of $\\theta_c$). If $\\vec\\beta=0$, how do the the source images look like?\n",
    "\n",
    ">**TASK**: Set $q=0.6$ and $\\sigma=300$ km $s^{-1}$. If $\\vec\\beta=0$, how do the the source images look like?"
   ]
  },
  {
   "cell_type": "markdown",
   "metadata": {},
   "source": [
    "TODO: write your answers here."
   ]
  },
  {
   "cell_type": "markdown",
   "metadata": {},
   "source": [
    "### Time delay surface and critical lines\n",
    "\n",
    "It is interesting to compare the locations of minima, maxima, and saddle points of the time delay surface with the lens critical lines. The SIE class in the `lensmodel` module contains functions to compute the lens critical lines and caustics. For example, to find the critical lines of the lens defined above, you just need to type the following commands: "
   ]
  },
  {
   "cell_type": "code",
   "execution_count": null,
   "metadata": {},
   "outputs": [],
   "source": [
    "tancl = lens.tancl()\n",
    "radcl = lens.radcl()\n",
    "\n",
    "print (type(tancl))\n",
    "print (tancl[0])"
   ]
  },
  {
   "cell_type": "markdown",
   "metadata": {},
   "source": [
    "Both `tancl` and `radcl` are lists of tangential and radial critical lines respectively. Each critical line is a list of (x,y) coordinates of critical points in arcsec with respect to the center of the coordinate system $\\theta_1,\\theta_2$ chosen before. \n",
    "\n",
    "`lensmodel.sie` also contains the function `crit2cau` to map the critical lines into the corresponding caustics. \n",
    "\n",
    "The following code creates a plot with two panels. The left panel shows the lens caustics in black. The red point is the source position (used to compute the geometrical time delay). The right panel shows the time delay contours projected on the $\\theta_1,\\theta_2$ plane. It also shows the critical lines as dashed black lines.\n",
    "\n",
    ">**TASK**: how are the minima, maxima, and saddle points of the time delay surface located with respect to the critical lines?\n",
    "\n",
    ">**TASK**: modify the code below to color the radial and tangential critical lines differently. Answer the previous question in light of this additional information."
   ]
  },
  {
   "cell_type": "code",
   "execution_count": null,
   "metadata": {},
   "outputs": [],
   "source": [
    "fig,ax =plt.subplots(1,2,figsize=(10,5))\n",
    "\n",
    "# define some contour levels\n",
    "max_td = 1.5*((-lens.pot).max()-td.min())\n",
    "\n",
    "if max_td>0:\n",
    "    levels = np.linspace(0,max_td,30)\n",
    "else:\n",
    "    levels=30\n",
    "\n",
    "ax[1].contourf(td-td.min(),levels=levels,cmap=cm.coolwarm,extent=[-FOV/2.,FOV/2.,-FOV/2.,FOV/2.])\n",
    "ax[1].contour(td-td.min(),levels=levels,extent=[-FOV/2.,FOV/2.,-FOV/2.,FOV/2.],colors='white')\n",
    "for cl in tancl:\n",
    "    cau = lens.crit2cau(cl)\n",
    "    thetac2, thetac1 = cl[:,0], cl[:,1]\n",
    "    betac2, betac1 = cau[:,0], cau[:,1]\n",
    "    ax[1].plot(thetac1,thetac2,'--',color='black')\n",
    "    ax[0].plot(betac1,betac2,'-',color='black')\n",
    "\n",
    "for cl in radcl:\n",
    "    cau = lens.crit2cau(cl)\n",
    "    thetac2, thetac1 = cl[:,0], cl[:,1]\n",
    "    betac2, betac1 = cau[:,0], cau[:,1]\n",
    "    ax[1].plot(thetac1,thetac2,'--',color='black')\n",
    "    ax[0].plot(betac1,betac2,'-',color='black')\n",
    "\n",
    "\n",
    "ax[0].plot(beta1,beta2,'o',ms=5,color='red')\n",
    "\n",
    "for i in range(2):\n",
    "    ax[i].set_aspect('equal')\n",
    "    ax[i].xaxis.set_tick_params(labelsize=fontsize)\n",
    "    ax[i].yaxis.set_tick_params(labelsize=fontsize)\n",
    "ax[0].set_xlabel(r'$\\beta_1$',fontsize=fontsize)\n",
    "ax[0].set_ylabel(r'$\\beta_2$',fontsize=fontsize)\n",
    "ax[1].set_xlabel(r'$\\theta_1$',fontsize=fontsize)\n",
    "ax[1].set_ylabel(r'$\\theta_2$',fontsize=fontsize)"
   ]
  },
  {
   "cell_type": "markdown",
   "metadata": {},
   "source": [
    "It is easier to make the plot above a bit more interactive, to allow to quickly see how the time delay surface changes when the source position is different. The class below assembles the different pieces of code discussed above to build an interactive app to display the time delay surfaces:"
   ]
  },
  {
   "cell_type": "code",
   "execution_count": null,
   "metadata": {},
   "outputs": [],
   "source": [
    "class td_app(object):\n",
    "\n",
    "    def __init__(self,co,theta,image=None,**kwargs):\n",
    "\n",
    "        self.kwargs = kwargs\n",
    "        self.lens = sie(co,**self.kwargs)\n",
    "        self.lens.setGrid(theta=theta)\n",
    "        self.tancl = self.lens.tancl()\n",
    "        self.radcl = self.lens.radcl()\n",
    "\n",
    "        if image == None:\n",
    "            # create a plot with two panels only\n",
    "            self.fig,self.ax =plt.subplots(1,2,figsize=(10,5))\n",
    "            fontsize = 15\n",
    "\n",
    "            beta1 = 0.0\n",
    "            beta2 = 0.0\n",
    "\n",
    "            self.update_td_plot(beta1,beta2)\n",
    "            self.cid = self.fig.canvas.mpl_connect('button_press_event', self.mouse_event)\n",
    "\n",
    "        else:\n",
    "            self.fig,self.ax =plt.subplots(1,3,figsize=(12,5))\n",
    "            fontsize = 15\n",
    "\n",
    "            beta1 = 0.0\n",
    "            beta2 = 0.0\n",
    "\n",
    "            self.update_td_plot(beta1,beta2)\n",
    "            self.ax[2].imshow(image)\n",
    "\n",
    "            self.cid = self.fig.canvas.mpl_connect('button_press_event', self.mouse_event)\n",
    "\n",
    "        for i in range(2):\n",
    "            self.ax[i].set_aspect('equal')\n",
    "            self.ax[i].xaxis.set_tick_params(labelsize=fontsize)\n",
    "            self.ax[i].yaxis.set_tick_params(labelsize=fontsize)\n",
    "        self.ax[0].set_xlabel(r'$\\beta_1$',fontsize=fontsize)\n",
    "        self.ax[0].set_ylabel(r'$\\beta_2$',fontsize=fontsize)\n",
    "        self.ax[1].set_xlabel(r'$\\theta_1$',fontsize=fontsize)\n",
    "        self.ax[1].set_ylabel(r'$\\theta_2$',fontsize=fontsize)\n",
    "        plt.tight_layout()\n",
    "\n",
    "\n",
    "    def mouse_event(self,event):\n",
    "        #print('x: {} and y: {}'.format(event.xdata, event.ydata))\n",
    "        if event.inaxes not in [self.ax[0]]:\n",
    "            print (\"Not a clickable region!\")\n",
    "            return\n",
    "\n",
    "        self.ax[0].clear()\n",
    "        self.ax[1].clear()\n",
    "        self.update_td_plot(event.xdata,event.ydata)\n",
    "        for i in range(2):\n",
    "            self.ax[i].set_aspect('equal')\n",
    "            self.ax[i].xaxis.set_tick_params(labelsize=fontsize)\n",
    "            self.ax[i].yaxis.set_tick_params(labelsize=fontsize)\n",
    "        self.ax[0].set_xlabel(r'$\\beta_1$',fontsize=fontsize)\n",
    "        self.ax[0].set_ylabel(r'$\\beta_2$',fontsize=fontsize)\n",
    "        self.ax[1].set_xlabel(r'$\\theta_1$',fontsize=fontsize)\n",
    "        self.ax[1].set_ylabel(r'$\\theta_2$',fontsize=fontsize)\n",
    "        plt.tight_layout()\n",
    "\n",
    "    def update_td_plot(self,beta1,beta2):\n",
    "\n",
    "        geomtd = self.geom_tdelay_(beta1=beta1,beta2=beta2)\n",
    "        gravtd = - self.lens.pot\n",
    "\n",
    "        FOV= self.lens.theta1.max()-self.lens.theta1.min()\n",
    "\n",
    "\n",
    "        td  = (geomtd + gravtd)*self.lens.conv_fact_time.value\n",
    "\n",
    "        # define some contour levels\n",
    "        max_td = 1.5*((-self.lens.pot).max()-td.min())\n",
    "\n",
    "        if max_td>0:\n",
    "            levels = np.linspace(0,max_td,30)\n",
    "        else:\n",
    "            levels=30\n",
    "\n",
    "        self.ax[1].contourf(td-td.min(),levels=levels,cmap=cm.coolwarm,extent=[-FOV/2.,FOV/2.,-FOV/2.,FOV/2.])\n",
    "        self.ax[1].contour(td-td.min(),levels=levels,extent=[-FOV/2.,FOV/2.,-FOV/2.,FOV/2.],colors='white')\n",
    "        self.ax[0].contour(td-td.min(),levels=levels,extent=[-FOV/2.,FOV/2.,-FOV/2.,FOV/2.],colors='white',alpha=0.0)\n",
    "        for cl in self.tancl:\n",
    "            cau = self.lens.crit2cau(cl)\n",
    "            thetac2, thetac1 = cl[:,0], cl[:,1]\n",
    "            betac2, betac1 = cau[:,0], cau[:,1]\n",
    "            self.ax[1].plot(thetac1,thetac2,'--',color='black')\n",
    "            self.ax[0].plot(betac1,betac2,'-',color='black')\n",
    "\n",
    "        for cl in self.radcl:\n",
    "            cau = self.lens.crit2cau(cl)\n",
    "            thetac2, thetac1 = cl[:,0], cl[:,1]\n",
    "            betac2, betac1 = cau[:,0], cau[:,1]\n",
    "            self.ax[1].plot(thetac1,thetac2,'--',color='black')\n",
    "            self.ax[0].plot(betac1,betac2,'-',color='black')\n",
    "\n",
    "        self.ax[0].plot(beta1,beta2,'o',ms=5,color='red')\n",
    "\n",
    "    def geom_tdelay_(self,beta1=0.0,beta2=0.0):\n",
    "        \"\"\"\n",
    "        Function to calculate the geometrical time delay:\n",
    "        inputs: \n",
    "        - theta1, theta2 :: mesh of coordinates where the time delay will be evaluated\n",
    "        - beta1, beta2 :: unlensed source coordinates\n",
    "        output: \n",
    "        - geometrical time delay surface  \n",
    "        \"\"\"\n",
    "        return (0.5*((self.lens.theta1-beta1)**2+(self.lens.theta2-beta2)**2))"
   ]
  },
  {
   "cell_type": "markdown",
   "metadata": {},
   "source": [
    "In the example below, click with your mouse on any position on the left panel to see how the map in the right panel changes on the fly."
   ]
  },
  {
   "cell_type": "code",
   "execution_count": null,
   "metadata": {},
   "outputs": [],
   "source": [
    "td_app(co,theta,**kwargs)"
   ]
  }
 ],
 "metadata": {
  "kernelspec": {
   "display_name": "Python 3.8.15 ('tonale')",
   "language": "python",
   "name": "python3"
  },
  "language_info": {
   "codemirror_mode": {
    "name": "ipython",
    "version": 3
   },
   "file_extension": ".py",
   "mimetype": "text/x-python",
   "name": "python",
   "nbconvert_exporter": "python",
   "pygments_lexer": "ipython3",
   "version": "3.8.15"
  },
  "orig_nbformat": 4,
  "vscode": {
   "interpreter": {
    "hash": "80049abdef48e04a217b57438db502bd877ddf91a719032c10ed240a9419ff14"
   }
  }
 },
 "nbformat": 4,
 "nbformat_minor": 2
}
